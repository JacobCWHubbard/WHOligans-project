{
 "cells": [
  {
   "cell_type": "code",
   "execution_count": 9,
   "id": "4509788a",
   "metadata": {},
   "outputs": [],
   "source": [
    "import sys\n",
    "sys.path.append('../src')\n",
    "\n",
    "from preprocessing import load_data\n",
    "from features import splitting_data, feature_engineering, scaling, add_constant_column\n",
    "from models import train_model, full_pipeline, calculate_rmse"
   ]
  },
  {
   "cell_type": "markdown",
   "id": "017e08f5-d8c7-45b9-af16-b79b0d527130",
   "metadata": {},
   "source": [
    "## Model testing"
   ]
  },
  {
   "cell_type": "markdown",
   "id": "f3882ca5-85c4-4969-91b1-8550df7ad0c9",
   "metadata": {},
   "source": [
    "In this notebook, the model is evaluated using the test dataset obtained from the train-test split. This steps helps to assess how well the model performs on unseen data and ensures that it can generalise beyond the training set.\n",
    "\n",
    "The evaluation uses RMSE, MAE and R-squared to measure prediction accuracy and model fit. RMSE and MAE capture the average error in predictions whereas, R-squared indicates how well the model explains the variance in data."
   ]
  },
  {
   "cell_type": "markdown",
   "id": "f966e494-b2d8-47a1-99e5-0224098451dd",
   "metadata": {},
   "source": [
    "## Train a model"
   ]
  },
  {
   "cell_type": "code",
   "execution_count": 10,
   "id": "2af4ca06-1188-4c02-ab8d-df4fb103b3e2",
   "metadata": {},
   "outputs": [],
   "source": [
    "minimal_cols = ['Region',\n",
    "                'Under_five_deaths',\n",
    "                'Adult_mortality',\n",
    "                'GDP_per_capita',\n",
    "                'Schooling',\n",
    "                'Economy_status_Developed',\n",
    "                'Life_expectancy'\n",
    "                ]\n",
    "\n",
    "elaborate_cols = minimal_cols + [\n",
    "                  'Alcohol_consumption',\n",
    "                  'Hepatitis_B',\n",
    "                  'Measles',\n",
    "                  'BMI',\n",
    "                  'Polio',\n",
    "                  'Diphtheria',\n",
    "                  'Incidents_HIV',\n",
    "                  'Thinness_ten_nineteen_years',\n",
    "                  'Thinness_five_nine_years',\n",
    "                 ]"
   ]
  },
  {
   "cell_type": "markdown",
   "id": "80c22090-de47-4acf-a511-c4c3a53998f8",
   "metadata": {},
   "source": [
    "## Model pipeline overview\n",
    "The full_pipeline function below allows us to automate data preparation and model training.\n",
    "\n",
    "This function performs the train-test split, feature engineering, scaling and model fitting. It then returns the processed data and trained model.\n",
    "\n",
    "The pipeline has been run twice. Once using the minimal feature set (minimal_cols) and once using elaborate feature set (elaborate_cols). This allows comparison between the two - the simpler and more complex models to see which performs better."
   ]
  },
  {
   "cell_type": "code",
   "execution_count": 11,
   "id": "0c2f84fa-21ea-4faa-a1ab-fe780a8d910e",
   "metadata": {},
   "outputs": [],
   "source": [
    "X_train_m_fe, X_test_m_fe, y_train_m, y_test_m, minimal_results, scaler_m, training_columns_m = full_pipeline(minimal_cols)\n",
    "X_train_e_fe, X_test_e_fe, y_train_e, y_test_e, elaborate_results, scaler_e, training_columns_e = full_pipeline(elaborate_cols)"
   ]
  },
  {
   "cell_type": "markdown",
   "id": "0fcd18ed-dd9a-4ca6-b062-5205e966de6d",
   "metadata": {},
   "source": [
    "## Testing our minimal model\n",
    "\n",
    "In this section, we tested how well the minimal model makes predictions on the training data. This was done using the .predict() function which outputs the model's predicted values for the same inputs it was trained on. \n",
    "\n",
    "The root mean squared error (RMSE) was then calculated between the predicted values and actual values in the training set. The same was carried out for the test dataset, which the model had not been shown before. This helps to evaluate how well the model works on unseen data. "
   ]
  },
  {
   "cell_type": "code",
   "execution_count": 12,
   "id": "ca61a555-7ee9-4c0b-a14a-f578ff923928",
   "metadata": {},
   "outputs": [
    {
     "name": "stdout",
     "output_type": "stream",
     "text": [
      "Root Mean Squared Error for training data: 1.420312266166898\n"
     ]
    }
   ],
   "source": [
    "# Make prediction (assuming model results saved as an object called 'results'\n",
    "y_train_m_pred = minimal_results.predict(X_train_m_fe)\n",
    "\n",
    "# Calculate RMSE from train data\n",
    "minimal_rmse_train = calculate_rmse(y_train_m, y_train_m_pred)\n",
    "\n",
    "print(f'Root Mean Squared Error for training data: {minimal_rmse_train}')"
   ]
  },
  {
   "cell_type": "code",
   "execution_count": 13,
   "id": "7823289c-01af-46d8-9dc7-dc71eba31c85",
   "metadata": {},
   "outputs": [
    {
     "name": "stdout",
     "output_type": "stream",
     "text": [
      "Root Mean Squared Error for testing data: 1.411767033259221\n"
     ]
    }
   ],
   "source": [
    "# Do the same thing as above but with TEST data\n",
    "y_test_m_pred = minimal_results.predict(X_test_m_fe)\n",
    "\n",
    "minimal_rmse_test = calculate_rmse(y_test_m, y_test_m_pred)\n",
    "\n",
    "print(f'Root Mean Squared Error for testing data: {minimal_rmse_test}')"
   ]
  },
  {
   "cell_type": "markdown",
   "id": "cc25c6a1-edcd-4475-9311-e7bc482c093a",
   "metadata": {},
   "source": [
    "The RMSE for the training data is 1.42 and the testing data is 1.41. Both values are almost identical which shows that the model performs consistently on both the data it was trained on and the unseen data. This shows that the model is *not* overfitting and is able to perform well on new unseen data.\n",
    "\n",
    "The RMSE value itself shows that on average, the model's predictions differ only from the true value by approximately 1.4 years. This indicates a good level of accuracy for this model. "
   ]
  },
  {
   "cell_type": "markdown",
   "id": "5cb2bc83-57bb-4585-b075-e2cdc3a8b31c",
   "metadata": {},
   "source": [
    "# Testing our elaborate model"
   ]
  },
  {
   "cell_type": "code",
   "execution_count": 14,
   "id": "21ee9dd2-2004-406e-991e-ba6c98f2ef03",
   "metadata": {},
   "outputs": [
    {
     "name": "stdout",
     "output_type": "stream",
     "text": [
      "Root Mean Squared Error for training data: 1.3946036666072652\n"
     ]
    }
   ],
   "source": [
    "# Make prediction (assuming model results saved as an object called 'results'\n",
    "y_train_e_pred = elaborate_results.predict(X_train_e_fe)\n",
    "\n",
    "# Calculate RMSE from train data\n",
    "elaborate_rmse_train = calculate_rmse(y_train_e, y_train_e_pred)\n",
    "\n",
    "print(f'Root Mean Squared Error for training data: {elaborate_rmse_train}')"
   ]
  },
  {
   "cell_type": "code",
   "execution_count": 15,
   "id": "b58fd019-f242-43f2-8bd2-1fea296bafef",
   "metadata": {},
   "outputs": [
    {
     "name": "stdout",
     "output_type": "stream",
     "text": [
      "Root Mean Squared Error for testing data: 1.3877250880253615\n"
     ]
    }
   ],
   "source": [
    "# Do the same thing as above but with TEST data\n",
    "y_test_e_pred = elaborate_results.predict(X_test_e_fe)\n",
    "\n",
    "elaborate_rmse_test = calculate_rmse(y_test_e, y_test_e_pred)\n",
    "\n",
    "print(f'Root Mean Squared Error for testing data: {elaborate_rmse_test}')"
   ]
  },
  {
   "cell_type": "markdown",
   "id": "6f8a293b-9954-4503-8a05-7ed251c99bf6",
   "metadata": {},
   "source": [
    "The RMSE for our training data is 1.395 and the testing data is 1.388. The RMSE's for our elaborate model are slightly lower than for that of the minimal model, showing that it performs better overall when compared to the minimal model as it makes smaller prediction errors.\n",
    "\n",
    "Both training and testing RMSE values are similar showing that this model is not overfitting and is able to generalise well on given data. In summary, the elaborate model provides a small improvement in accuracy while also maintaining strong performance."
   ]
  }
 ],
 "metadata": {
  "kernelspec": {
   "display_name": ".venv",
   "language": "python",
   "name": "python3"
  },
  "language_info": {
   "codemirror_mode": {
    "name": "ipython",
    "version": 3
   },
   "file_extension": ".py",
   "mimetype": "text/x-python",
   "name": "python",
   "nbconvert_exporter": "python",
   "pygments_lexer": "ipython3",
   "version": "3.12.3"
  }
 },
 "nbformat": 4,
 "nbformat_minor": 5
}
