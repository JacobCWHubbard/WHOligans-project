{
 "cells": [
  {
   "cell_type": "markdown",
   "id": "9b21de1e",
   "metadata": {},
   "source": [
    "#### Setup"
   ]
  },
  {
   "cell_type": "code",
   "execution_count": 57,
   "id": "31a3b666-b688-467e-a10c-bb3ce84c7002",
   "metadata": {},
   "outputs": [],
   "source": [
    "import numpy as np\n",
    "import pandas as pd\n",
    "import seaborn as sns\n",
    "import matplotlib.pyplot as plt\n",
    "import sys\n",
    "sys.path.append('../src') # Add source code to path\n",
    "\n",
    "# Import source code\n",
    "from user_interaction import welcome_message, model_decider, collect_values\n",
    "from preprocessing import load_data \n",
    "from models import full_pipeline, calculate_rmse\n",
    "from features import feature_engineering, scaling, add_constant_column\n",
    "from final_function_source import final_function\n",
    "\n",
    "\n",
    "\n",
    "\n",
    "\n",
    "\n",
    "# Read in the dataset\n",
    "df = load_data()"
   ]
  },
  {
   "cell_type": "markdown",
   "id": "393a8b4a-01b4-4f5f-a73a-e6a23bbab53a",
   "metadata": {},
   "source": [
    "\n",
    "# Introduction\n"
   ]
  },
  {
   "cell_type": "markdown",
   "id": "f6e480ce-694d-4538-9af8-bb3e2d4e3749",
   "metadata": {},
   "source": [
    "### *Towards a better understanding of the world's health landscape*\n",
    "\n",
    "Life expectancy is a statistical measurement used to estimate an individual's lifespan. Our aim as a team is to provide you with a tool that can accurately predict this estimate.\n",
    "\n",
    "*So why should this matter to you?*\n",
    "\n",
    "On an individual level, life expectancy is crucial in determining one's plans, support and care. On a larger group level, it holds paramount socio-economical implications.\n",
    "\n",
    "On a country level, it is used to derive insights, analytics and further studies to better understand the needs & risk factors of populations."
   ]
  },
  {
   "cell_type": "markdown",
   "id": "1801fd65",
   "metadata": {},
   "source": [
    "# Agenda\n",
    "1. Data Overview & EDA\n",
    "2. Data Preparation\n",
    "3. Model Training\n",
    "4. Model Testing\n",
    "5. Walkthrough of our function\n",
    "6. Conclusion"
   ]
  },
  {
   "cell_type": "markdown",
   "id": "26347542-b809-4a8e-912c-3a767a0ba65b",
   "metadata": {},
   "source": [
    "\n",
    "## 1. Data Overview & Exploratory Data Analysis\n"
   ]
  },
  {
   "cell_type": "markdown",
   "id": "101fc89b-6725-419d-8a8e-dca908e070da",
   "metadata": {},
   "source": [
    "To begin, we needed to ensure the model was built on sound, representative data for optimum accuracy. In an initial exploratory stage, we performed an overview to assess the current state of the data, conducted checks, and corrected any missing or misrepresentative data."
   ]
  },
  {
   "cell_type": "markdown",
   "id": "64a8bd2f-69cc-46b3-b944-222eb9198450",
   "metadata": {},
   "source": [
    "### Overview"
   ]
  },
  {
   "cell_type": "markdown",
   "id": "86aa1eb2-9953-49ea-a0f6-1ecdde0a9d0e",
   "metadata": {},
   "source": [
    "We identified that our dataset includes a range of features capturing socio-economic, health, and demographic statistics, spanning 179 countries over a 16 year period."
   ]
  },
  {
   "cell_type": "code",
   "execution_count": 58,
   "id": "4e2b97c2-c7d0-46fe-b414-61cc89f503a6",
   "metadata": {},
   "outputs": [
    {
     "data": {
      "text/plain": [
       "(2864, 21)"
      ]
     },
     "execution_count": 58,
     "metadata": {},
     "output_type": "execute_result"
    }
   ],
   "source": [
    "df.shape"
   ]
  },
  {
   "cell_type": "code",
   "execution_count": 59,
   "id": "2701227e-4667-4aca-b9db-251ab79dcee3",
   "metadata": {},
   "outputs": [
    {
     "data": {
      "text/html": [
       "<div>\n",
       "<style scoped>\n",
       "    .dataframe tbody tr th:only-of-type {\n",
       "        vertical-align: middle;\n",
       "    }\n",
       "\n",
       "    .dataframe tbody tr th {\n",
       "        vertical-align: top;\n",
       "    }\n",
       "\n",
       "    .dataframe thead th {\n",
       "        text-align: right;\n",
       "    }\n",
       "</style>\n",
       "<table border=\"1\" class=\"dataframe\">\n",
       "  <thead>\n",
       "    <tr style=\"text-align: right;\">\n",
       "      <th></th>\n",
       "      <th>Country</th>\n",
       "      <th>Region</th>\n",
       "      <th>Year</th>\n",
       "      <th>Infant_deaths</th>\n",
       "      <th>Under_five_deaths</th>\n",
       "      <th>Adult_mortality</th>\n",
       "      <th>Alcohol_consumption</th>\n",
       "      <th>Hepatitis_B</th>\n",
       "      <th>Measles</th>\n",
       "      <th>BMI</th>\n",
       "      <th>...</th>\n",
       "      <th>Diphtheria</th>\n",
       "      <th>Incidents_HIV</th>\n",
       "      <th>GDP_per_capita</th>\n",
       "      <th>Population_mln</th>\n",
       "      <th>Thinness_ten_nineteen_years</th>\n",
       "      <th>Thinness_five_nine_years</th>\n",
       "      <th>Schooling</th>\n",
       "      <th>Economy_status_Developed</th>\n",
       "      <th>Economy_status_Developing</th>\n",
       "      <th>Life_expectancy</th>\n",
       "    </tr>\n",
       "  </thead>\n",
       "  <tbody>\n",
       "    <tr>\n",
       "      <th>0</th>\n",
       "      <td>Turkiye</td>\n",
       "      <td>Middle East</td>\n",
       "      <td>2015</td>\n",
       "      <td>11.1</td>\n",
       "      <td>13.0</td>\n",
       "      <td>105.8240</td>\n",
       "      <td>1.32</td>\n",
       "      <td>97</td>\n",
       "      <td>65</td>\n",
       "      <td>27.8</td>\n",
       "      <td>...</td>\n",
       "      <td>97</td>\n",
       "      <td>0.08</td>\n",
       "      <td>11006</td>\n",
       "      <td>78.53</td>\n",
       "      <td>4.9</td>\n",
       "      <td>4.8</td>\n",
       "      <td>7.8</td>\n",
       "      <td>0</td>\n",
       "      <td>1</td>\n",
       "      <td>76.5</td>\n",
       "    </tr>\n",
       "    <tr>\n",
       "      <th>1</th>\n",
       "      <td>Spain</td>\n",
       "      <td>European Union</td>\n",
       "      <td>2015</td>\n",
       "      <td>2.7</td>\n",
       "      <td>3.3</td>\n",
       "      <td>57.9025</td>\n",
       "      <td>10.35</td>\n",
       "      <td>97</td>\n",
       "      <td>94</td>\n",
       "      <td>26.0</td>\n",
       "      <td>...</td>\n",
       "      <td>97</td>\n",
       "      <td>0.09</td>\n",
       "      <td>25742</td>\n",
       "      <td>46.44</td>\n",
       "      <td>0.6</td>\n",
       "      <td>0.5</td>\n",
       "      <td>9.7</td>\n",
       "      <td>1</td>\n",
       "      <td>0</td>\n",
       "      <td>82.8</td>\n",
       "    </tr>\n",
       "    <tr>\n",
       "      <th>2</th>\n",
       "      <td>India</td>\n",
       "      <td>Asia</td>\n",
       "      <td>2007</td>\n",
       "      <td>51.5</td>\n",
       "      <td>67.9</td>\n",
       "      <td>201.0765</td>\n",
       "      <td>1.57</td>\n",
       "      <td>60</td>\n",
       "      <td>35</td>\n",
       "      <td>21.2</td>\n",
       "      <td>...</td>\n",
       "      <td>64</td>\n",
       "      <td>0.13</td>\n",
       "      <td>1076</td>\n",
       "      <td>1183.21</td>\n",
       "      <td>27.1</td>\n",
       "      <td>28.0</td>\n",
       "      <td>5.0</td>\n",
       "      <td>0</td>\n",
       "      <td>1</td>\n",
       "      <td>65.4</td>\n",
       "    </tr>\n",
       "    <tr>\n",
       "      <th>3</th>\n",
       "      <td>Guyana</td>\n",
       "      <td>South America</td>\n",
       "      <td>2006</td>\n",
       "      <td>32.8</td>\n",
       "      <td>40.5</td>\n",
       "      <td>222.1965</td>\n",
       "      <td>5.68</td>\n",
       "      <td>93</td>\n",
       "      <td>74</td>\n",
       "      <td>25.3</td>\n",
       "      <td>...</td>\n",
       "      <td>93</td>\n",
       "      <td>0.79</td>\n",
       "      <td>4146</td>\n",
       "      <td>0.75</td>\n",
       "      <td>5.7</td>\n",
       "      <td>5.5</td>\n",
       "      <td>7.9</td>\n",
       "      <td>0</td>\n",
       "      <td>1</td>\n",
       "      <td>67.0</td>\n",
       "    </tr>\n",
       "    <tr>\n",
       "      <th>4</th>\n",
       "      <td>Israel</td>\n",
       "      <td>Middle East</td>\n",
       "      <td>2012</td>\n",
       "      <td>3.4</td>\n",
       "      <td>4.3</td>\n",
       "      <td>57.9510</td>\n",
       "      <td>2.89</td>\n",
       "      <td>97</td>\n",
       "      <td>89</td>\n",
       "      <td>27.0</td>\n",
       "      <td>...</td>\n",
       "      <td>94</td>\n",
       "      <td>0.08</td>\n",
       "      <td>33995</td>\n",
       "      <td>7.91</td>\n",
       "      <td>1.2</td>\n",
       "      <td>1.1</td>\n",
       "      <td>12.8</td>\n",
       "      <td>1</td>\n",
       "      <td>0</td>\n",
       "      <td>81.7</td>\n",
       "    </tr>\n",
       "  </tbody>\n",
       "</table>\n",
       "<p>5 rows × 21 columns</p>\n",
       "</div>"
      ],
      "text/plain": [
       "   Country          Region  Year  Infant_deaths  Under_five_deaths  \\\n",
       "0  Turkiye     Middle East  2015           11.1               13.0   \n",
       "1    Spain  European Union  2015            2.7                3.3   \n",
       "2    India            Asia  2007           51.5               67.9   \n",
       "3   Guyana   South America  2006           32.8               40.5   \n",
       "4   Israel     Middle East  2012            3.4                4.3   \n",
       "\n",
       "   Adult_mortality  Alcohol_consumption  Hepatitis_B  Measles   BMI  ...  \\\n",
       "0         105.8240                 1.32           97       65  27.8  ...   \n",
       "1          57.9025                10.35           97       94  26.0  ...   \n",
       "2         201.0765                 1.57           60       35  21.2  ...   \n",
       "3         222.1965                 5.68           93       74  25.3  ...   \n",
       "4          57.9510                 2.89           97       89  27.0  ...   \n",
       "\n",
       "   Diphtheria  Incidents_HIV  GDP_per_capita  Population_mln  \\\n",
       "0          97           0.08           11006           78.53   \n",
       "1          97           0.09           25742           46.44   \n",
       "2          64           0.13            1076         1183.21   \n",
       "3          93           0.79            4146            0.75   \n",
       "4          94           0.08           33995            7.91   \n",
       "\n",
       "   Thinness_ten_nineteen_years  Thinness_five_nine_years  Schooling  \\\n",
       "0                          4.9                       4.8        7.8   \n",
       "1                          0.6                       0.5        9.7   \n",
       "2                         27.1                      28.0        5.0   \n",
       "3                          5.7                       5.5        7.9   \n",
       "4                          1.2                       1.1       12.8   \n",
       "\n",
       "   Economy_status_Developed  Economy_status_Developing  Life_expectancy  \n",
       "0                         0                          1             76.5  \n",
       "1                         1                          0             82.8  \n",
       "2                         0                          1             65.4  \n",
       "3                         0                          1             67.0  \n",
       "4                         1                          0             81.7  \n",
       "\n",
       "[5 rows x 21 columns]"
      ]
     },
     "execution_count": 59,
     "metadata": {},
     "output_type": "execute_result"
    }
   ],
   "source": [
    "df.head()"
   ]
  },
  {
   "cell_type": "markdown",
   "id": "8b0f87b8-40b2-447e-a441-057e3dfa7afe",
   "metadata": {},
   "source": [
    "### Data Cleaning"
   ]
  },
  {
   "cell_type": "markdown",
   "id": "b0b189ea-2660-425c-b458-48ea7f612ed3",
   "metadata": {},
   "source": [
    "We were fortunate that the dataset required minimal cleaning. It contained no missing values, duplicates, or data entry inconsistencies. All feature names were suitable for modelling, and the only outlier identified for further review was GDP_per_capita, which we addressed later during the feature engineering and transformation stage.\n",
    "\n",
    "We also understood that two models were to be developed: one using the full dataset and another excluding sensitive information. We classified specific identifiers and any health-related records as sensitive data, while information that is publicly accessible was considered non-sensitive."
   ]
  },
  {
   "cell_type": "markdown",
   "id": "577578f8-3ef5-4190-b881-733010f27a87",
   "metadata": {},
   "source": [
    "### Correlations:"
   ]
  },
  {
   "cell_type": "markdown",
   "id": "7b8087ad",
   "metadata": {},
   "source": [
    "<img src = '../visualisations/correlation.png'>"
   ]
  },
  {
   "cell_type": "markdown",
   "id": "5da8e677",
   "metadata": {},
   "source": [
    "<img src = '../visualisations/life_expectancy_correlations.png' style=\"width:auto; height:auto;\">"
   ]
  },
  {
   "cell_type": "markdown",
   "id": "5d38cfa1",
   "metadata": {},
   "source": [
    "<img src = '../visualisations/pairplot2.png'>"
   ]
  },
  {
   "cell_type": "markdown",
   "id": "1ee2256e-83ed-4bd3-89b0-bd80186c0a5e",
   "metadata": {},
   "source": [
    "### Summary of Findings\n",
    "\n",
    "Identified Key Features:\n",
    "\n",
    "- Adult Mortality\n",
    "- Infant Deaths\n",
    "- Schooling\n",
    "- Polio\n",
    "- Diphtheria\n",
    "- BMI\n",
    "- GDP per Capita\n",
    "- Economy Status (Developed)\n",
    "- Measles\n",
    "- Thinness (Ages 10–19)\n",
    "\n",
    "Overview:\n",
    "\n",
    "- The dataset is clean, with no major missing values or duplicate entries.\n",
    "\n",
    "- Both numerical and categorical features have been clearly identified.\n",
    "\n",
    "- Outlier inspection and correlation analysis highlight several variables with strong potential impact.\n",
    "\n",
    "- We discovered potential multicollinearity. This can impact model performance by making it harder to interpret which variables truly drive predictions."
   ]
  },
  {
   "cell_type": "markdown",
   "id": "5534b6bd-e820-427e-8408-bd51fd523f9a",
   "metadata": {},
   "source": [
    "# **2. Data preparation**  \n",
    "\n",
    "## **Determine:**  \n",
    "#### - _**Sensitive vs. non-sensitive data**_\n",
    "#### - _**Strongly correlated features (Multicollinearity)**_\n",
    "\n",
    "|**Non-sensitive**|**Sensitive**|\n",
    "|:---|:---|\n",
    "|Country|Alcohol consumption|\n",
    "|Region|Immunisation rates against Hep B, Measles, Polio, Diphtheria|\n",
    "|Year|BMI|\n",
    "|**Infant mortality**|Incidence of HIV|\n",
    "|**Under five mortality**|**Child thinness (5-9 years)**|\n",
    "|Adult mortality|**Child thinness (10-19 years)**|\n",
    "|GDP per capita||\n",
    "|Population||\n",
    "|Schooling||\n",
    "|**Economically developed**||\n",
    "|**Economically developing**||\n",
    "\n",
    "Pairs of features in **bold** are expected to be linearly dependent, and to cause multicollinearity"
   ]
  },
  {
   "cell_type": "markdown",
   "id": "c78d0063-c91d-4ade-8b18-14748252e31d",
   "metadata": {},
   "source": [
    "## **Train-test split**\n",
    "\n",
    "<img src=\"https://images.unsplash.com/photo-1748280933446-c9be297ec3be?ixlib=rb-4.1.0&ixid=M3wxMjA3fDB8MHxwaG90by1wYWdlfHx8fGVufDB8fHx8fA%3D%3D&auto=format&fit=crop&q=80&w=1170\" width = 400px, height=300px/>"
   ]
  },
  {
   "cell_type": "markdown",
   "id": "dd01e45a-5467-4f1c-828f-1ac92801a5ab",
   "metadata": {},
   "source": [
    "## **Feature engineering**   \n",
    "\n",
    "#### _Optimising the dataset for linear regression modelling_"
   ]
  },
  {
   "cell_type": "markdown",
   "id": "f8bb7f5d",
   "metadata": {},
   "source": [
    "<img src = '../visualisations/pearsons.png'>"
   ]
  },
  {
   "cell_type": "markdown",
   "id": "4e2fe3e2-0e9c-458f-bad6-3f7c066e74f9",
   "metadata": {},
   "source": [
    "##### Engineered dataset has a **more linear trend**, and the effect of **outliers** has been reduced.  \n",
    "\n",
    "##### Features such as total population produced a **weak correlation** with life expectancy and have been **removed from the model**."
   ]
  },
  {
   "cell_type": "markdown",
   "id": "1545ae18-3d79-4c5f-bc47-fe2ad62e1e5f",
   "metadata": {},
   "source": [
    "## **Normalisation**  \n",
    "\n",
    "#### Using _Robust Scaler_"
   ]
  },
  {
   "cell_type": "markdown",
   "id": "f8daa6b1",
   "metadata": {},
   "source": [
    "<img src = '../visualisations/normalisation.png'>"
   ]
  },
  {
   "cell_type": "markdown",
   "id": "d27e03e0-c327-4594-9fd7-05c338b7fc1a",
   "metadata": {},
   "source": [
    "##### The **distribution** is unchanged, but the scale (x-axis) has been normalised for consistency with other features."
   ]
  },
  {
   "cell_type": "markdown",
   "id": "07647699-4056-4ed9-aad3-ba0d9d57b1c1",
   "metadata": {},
   "source": [
    "## Model building\n",
    "\n",
    "We decided to use a linear regression model for the following reasons:\n",
    "- It's simple and easy to interpret.\n",
    "- It goes well with visuals.\n",
    "- The pattern is highly repeatable, such that we can use it to reliably predict future instances.\n",
    "- It's transparent and gives us an idea as to which features are more or less relevant.\n",
    "\n",
    "\n",
    "#### Model building - data sensitivity\n",
    "Another concern we needed to consider was that some of the data we needed to analyse might be considered sensitive. Some countries might not be able/willing to show us some of the more private pieces of data around them, e.g. BMI, incidents of HIV, etc, due to the more private nature of those kinds of information.\n",
    "To mitigate this concern, we seperated the featuires into 2 categories: sensitive and non-sensitive. We based non-sensitive data on the idea of the data not being considered private and geberally larger scale, examples including but not limited to:\n",
    "- GDP\n",
    "- level of education\n",
    "- level of economic develeopment\n",
    "\n",
    "Whereas the more personal private data was classed as sensitive, such as:\n",
    "- BMI\n",
    "- Incidents of HIV\n",
    "- People classed as 'thin'\n",
    "\n",
    "Our program gives you the option to use 1 of 2 models. One is for all data, regardless of sensitivity, and the other model is based soley on the data that is only considered non-sensitive. \n",
    "#### Model building - coefficients bar chart\n",
    "\n",
    "We can visualise what the coefficients of the 2 models would look like with the following bar chart:"
   ]
  },
  {
   "cell_type": "markdown",
   "id": "3e349ff4-7bf4-49f6-98ae-2bb27d5596f3",
   "metadata": {},
   "source": [
    "<img src = '../visualisations/elaborate_corr.png'>"
   ]
  },
  {
   "cell_type": "markdown",
   "id": "fd10d412",
   "metadata": {},
   "source": [
    "<img src = '../visualisations/minimal_corr.png'>"
   ]
  },
  {
   "cell_type": "markdown",
   "id": "017e08f5-d8c7-45b9-af16-b79b0d527130",
   "metadata": {},
   "source": [
    "## Model testing"
   ]
  },
  {
   "cell_type": "markdown",
   "id": "f3882ca5-85c4-4969-91b1-8550df7ad0c9",
   "metadata": {},
   "source": [
    "In this notebook, the model is evaluated using the test dataset obtained from the train-test split. This steps helps to assess how well the model performs on unseen data and ensures that it can generalise beyond the training set.\n",
    "\n",
    "The evaluation uses RMSE, MAE and R-squared to measure prediction accuracy and model fit. RMSE and MAE capture the average error in predictions whereas, R-squared indicates how well the model explains the variance in data."
   ]
  },
  {
   "cell_type": "markdown",
   "id": "80c22090-de47-4acf-a511-c4c3a53998f8",
   "metadata": {},
   "source": [
    "## Model pipeline "
   ]
  },
  {
   "cell_type": "code",
   "execution_count": 60,
   "id": "09a2f4f4",
   "metadata": {},
   "outputs": [],
   "source": [
    "minimal_cols = ['Region',\n",
    "                'Under_five_deaths',\n",
    "                'Adult_mortality',\n",
    "                'GDP_per_capita',\n",
    "                'Schooling',\n",
    "                'Economy_status_Developed',\n",
    "                'Life_expectancy'\n",
    "                ]\n",
    "\n",
    "elaborate_cols = minimal_cols + [\n",
    "                  'Alcohol_consumption',\n",
    "                  'Hepatitis_B',\n",
    "                  'Measles',\n",
    "                  'BMI',\n",
    "                  'Polio',\n",
    "                  'Diphtheria',\n",
    "                  'Incidents_HIV',\n",
    "                  'Thinness_ten_nineteen_years',\n",
    "                  'Thinness_five_nine_years',\n",
    "                 ]"
   ]
  },
  {
   "cell_type": "code",
   "execution_count": 61,
   "id": "0c2f84fa-21ea-4faa-a1ab-fe780a8d910e",
   "metadata": {},
   "outputs": [],
   "source": [
    "X_train_m_fe, X_test_m_fe, y_train_m, y_test_m, minimal_results, scaler_m, training_columns_m = full_pipeline(minimal_cols)\n",
    "X_train_e_fe, X_test_e_fe, y_train_e, y_test_e, elaborate_results, scaler_e, training_columns_e = full_pipeline(elaborate_cols)"
   ]
  },
  {
   "cell_type": "markdown",
   "id": "0fcd18ed-dd9a-4ca6-b062-5205e966de6d",
   "metadata": {},
   "source": [
    "## Testing our minimal model\n",
    "\n",
    "In this section, we tested how well the minimal model makes predictions on the training data. This was done using the .predict() function which outputs the model's predicted values for the same inputs it was trained on. \n",
    "\n",
    "The root mean squared error (RMSE) was then calculated between the predicted values and actual values in the training set. The same was carried out for the test dataset, which the model had not been shown before. This helps to evaluate how well the model works on unseen data. "
   ]
  },
  {
   "cell_type": "code",
   "execution_count": 62,
   "id": "ca61a555-7ee9-4c0b-a14a-f578ff923928",
   "metadata": {},
   "outputs": [
    {
     "name": "stdout",
     "output_type": "stream",
     "text": [
      "Root Mean Squared Error for training data: 1.420312266166898\n"
     ]
    }
   ],
   "source": [
    "# Make prediction (assuming model results saved as an object called 'results'\n",
    "y_train_m_pred = minimal_results.predict(X_train_m_fe)\n",
    "\n",
    "# Calculate RMSE from train data\n",
    "minimal_rmse_train = calculate_rmse(y_train_m, y_train_m_pred)\n",
    "\n",
    "print(f'Root Mean Squared Error for training data: {minimal_rmse_train}')"
   ]
  },
  {
   "cell_type": "code",
   "execution_count": 63,
   "id": "7823289c-01af-46d8-9dc7-dc71eba31c85",
   "metadata": {},
   "outputs": [
    {
     "name": "stdout",
     "output_type": "stream",
     "text": [
      "Root Mean Squared Error for testing data: 1.411767033259221\n"
     ]
    }
   ],
   "source": [
    "# Do the same thing as above but with TEST data\n",
    "y_test_m_pred = minimal_results.predict(X_test_m_fe)\n",
    "\n",
    "minimal_rmse_test = calculate_rmse(y_test_m, y_test_m_pred)\n",
    "\n",
    "print(f'Root Mean Squared Error for testing data: {minimal_rmse_test}')"
   ]
  },
  {
   "cell_type": "markdown",
   "id": "cc25c6a1-edcd-4475-9311-e7bc482c093a",
   "metadata": {},
   "source": [
    "The RMSE for the training data is 1.42 and the testing data is 1.41. Both values are almost identical which shows that the model performs consistently on both the data it was trained on and the unseen data. This shows that the model is *not* overfitting and is able to perform well on new unseen data.\n",
    "\n",
    "The RMSE value itself shows that on average, the model's predictions differ only from the true value by approximately 1.4 years. This indicates a good level of accuracy for this model. "
   ]
  },
  {
   "cell_type": "markdown",
   "id": "5cb2bc83-57bb-4585-b075-e2cdc3a8b31c",
   "metadata": {},
   "source": [
    "# Testing our elaborate model"
   ]
  },
  {
   "cell_type": "code",
   "execution_count": 64,
   "id": "21ee9dd2-2004-406e-991e-ba6c98f2ef03",
   "metadata": {},
   "outputs": [
    {
     "name": "stdout",
     "output_type": "stream",
     "text": [
      "Root Mean Squared Error for training data: 1.3946036666072652\n"
     ]
    }
   ],
   "source": [
    "# Make prediction (assuming model results saved as an object called 'results'\n",
    "y_train_e_pred = elaborate_results.predict(X_train_e_fe)\n",
    "\n",
    "# Calculate RMSE from train data\n",
    "elaborate_rmse_train = calculate_rmse(y_train_e, y_train_e_pred)\n",
    "\n",
    "print(f'Root Mean Squared Error for training data: {elaborate_rmse_train}')"
   ]
  },
  {
   "cell_type": "code",
   "execution_count": 65,
   "id": "b58fd019-f242-43f2-8bd2-1fea296bafef",
   "metadata": {},
   "outputs": [
    {
     "name": "stdout",
     "output_type": "stream",
     "text": [
      "Root Mean Squared Error for testing data: 1.3877250880253615\n"
     ]
    }
   ],
   "source": [
    "# Do the same thing as above but with TEST data\n",
    "y_test_e_pred = elaborate_results.predict(X_test_e_fe)\n",
    "\n",
    "elaborate_rmse_test = calculate_rmse(y_test_e, y_test_e_pred)\n",
    "\n",
    "print(f'Root Mean Squared Error for testing data: {elaborate_rmse_test}')"
   ]
  },
  {
   "cell_type": "markdown",
   "id": "6f8a293b-9954-4503-8a05-7ed251c99bf6",
   "metadata": {},
   "source": [
    "The RMSE for our training data is 1.395 and the testing data is 1.388. The RMSE's for our elaborate model are slightly lower than for that of the minimal model, showing that it performs better overall when compared to the minimal model as it makes smaller prediction errors.\n",
    "\n",
    "Both training and testing RMSE values are similar showing that this model is not overfitting and is able to generalise well on given data. In summary, the elaborate model provides a small improvement in accuracy while also maintaining strong performance."
   ]
  },
  {
   "cell_type": "markdown",
   "id": "7b7cf5b7",
   "metadata": {},
   "source": [
    "# 7 Demonstration"
   ]
  },
  {
   "cell_type": "markdown",
   "id": "db2bad67",
   "metadata": {},
   "source": [
    "## Walkthrough"
   ]
  },
  {
   "cell_type": "markdown",
   "id": "ed14a5d7",
   "metadata": {},
   "source": [
    "**Time for some audience paticipation!**"
   ]
  },
  {
   "cell_type": "code",
   "execution_count": 67,
   "id": "ca4897c9",
   "metadata": {},
   "outputs": [
    {
     "name": "stdout",
     "output_type": "stream",
     "text": [
      "Welcome to the WHOligans life expectancy predictor\n",
      "\n",
      "Do you consent to using advanced population data, \n",
      "which may include protected information, for better accuracy? (Y/N): \n",
      "Thank you, your response was: N \n",
      "\n",
      "Please enter the region in which the country is located. Pick from the following list ['Middle East', 'European Union', 'Asia', 'South America', 'Central America and Caribbean', 'Rest of Europe', 'Africa', 'Oceania', 'North America']\n",
      "Please enter the under-five mortality rate (per 1,000 people). Expected range is 2.3 to 224.9\n",
      "Please enter the adult mortality rate (per 1,000 people aged 15-60 years). Expected range is 49.384 to 719.3605\n",
      "\n",
      "Please insure your input is an accepted value\n",
      "Please enter the country's GDP per capita (in USD). Expected range is 148 to 112418\n",
      "Please enter the average number of years of schooling. Expected range is 1.1 to 14.1\n",
      "Please determine whether the country is economically developed. Enter 1 for yes, and 0 for no\n",
      "\n",
      "Here is a copy of your responses:\n",
      " {'Region': 'Asia', 'Under_five_deaths': 50.0, 'Adult_mortality': 500.0, 'GDP_per_capita': 50000.0, 'Schooling': 7.0, 'Economy_status_Developed': 1}\n",
      "Predicted life expectancy: 51.9 years\n",
      "\n"
     ]
    },
    {
     "data": {
      "text/plain": [
       "np.float64(51.86083684950742)"
      ]
     },
     "execution_count": 67,
     "metadata": {},
     "output_type": "execute_result"
    }
   ],
   "source": [
    "final_function()"
   ]
  },
  {
   "cell_type": "markdown",
   "id": "ba289446",
   "metadata": {},
   "source": [
    "# 8 Conclusion"
   ]
  },
  {
   "cell_type": "markdown",
   "id": "7fc8a982",
   "metadata": {},
   "source": [
    "* **We have presented a model that can predict life expectancy with an RMSE of 1.4 years**\n",
    "* **The user can choose whether or not to use sensitive data**\n",
    "* **Our minimal model is almost as powerful as our elaborate model**\n"
   ]
  },
  {
   "cell_type": "markdown",
   "id": "3c946d8f",
   "metadata": {},
   "source": [
    "## Future Directions\n",
    "\n",
    "* Improve our elaborate model\n",
    "\n",
    "* Give the user more control with the final function"
   ]
  },
  {
   "cell_type": "markdown",
   "id": "8467632c",
   "metadata": {},
   "source": [
    "## Any questions?"
   ]
  }
 ],
 "metadata": {
  "kernelspec": {
   "display_name": ".venv",
   "language": "python",
   "name": "python3"
  },
  "language_info": {
   "codemirror_mode": {
    "name": "ipython",
    "version": 3
   },
   "file_extension": ".py",
   "mimetype": "text/x-python",
   "name": "python",
   "nbconvert_exporter": "python",
   "pygments_lexer": "ipython3",
   "version": "3.12.3"
  }
 },
 "nbformat": 4,
 "nbformat_minor": 5
}
