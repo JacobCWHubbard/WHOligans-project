{
 "cells": [
  {
   "cell_type": "markdown",
   "id": "7b7cf5b7",
   "metadata": {},
   "source": [
    "# 7 Demonstration"
   ]
  },
  {
   "cell_type": "markdown",
   "id": "96200e91",
   "metadata": {},
   "source": [
    "### Setup"
   ]
  },
  {
   "cell_type": "code",
   "execution_count": 1,
   "id": "d516d8f9",
   "metadata": {},
   "outputs": [],
   "source": [
    "import sys\n",
    "sys.path.append('../src') # Add src to path \n",
    "\n",
    "from final_function_source import final_function"
   ]
  },
  {
   "cell_type": "markdown",
   "id": "db2bad67",
   "metadata": {},
   "source": [
    "## Walkthrough"
   ]
  },
  {
   "cell_type": "markdown",
   "id": "ed14a5d7",
   "metadata": {},
   "source": [
    "**Time for some audience paticipation!**"
   ]
  },
  {
   "cell_type": "code",
   "execution_count": 2,
   "id": "ca4897c9",
   "metadata": {},
   "outputs": [
    {
     "name": "stdout",
     "output_type": "stream",
     "text": [
      "Welcome to the WHOligans life expectancy predictor\n",
      "\n",
      "Do you consent to using advanced population data, \n",
      "which may include protected information, for better accuracy? (Y/N): \n",
      "Please enter either Y or N\n",
      "Thank you, your response was: N \n",
      "\n",
      "Please enter the region in which the country is located. Pick from the following list ['Middle East', 'European Union', 'Asia', 'South America', 'Central America and Caribbean', 'Rest of Europe', 'Africa', 'Oceania', 'North America']\n",
      "Please enter the under-five mortality rate (per 1,000 people). Expected range is 2.3 to 224.9\n",
      "Please enter the adult mortality rate (per 1,000 people aged 15-60 years). Expected range is 49.384 to 719.3605\n",
      "Please enter the country's GDP per capita (in USD). Expected range is 148 to 112418\n",
      "Please enter the average number of years of schooling. Expected range is 1.1 to 14.1\n",
      "Please determine whether the country is economically developed. Enter 1 for yes, and 0 for no\n",
      "\n",
      "Here is a copy of your responses:\n",
      " {'Region': 'Asia', 'Under_five_deaths': 50.0, 'Adult_mortality': 500.0, 'GDP_per_capita': 50000.0, 'Schooling': 5.0, 'Economy_status_Developed': 1}\n",
      "Predicted life expectancy: 51.62 years\n"
     ]
    }
   ],
   "source": [
    "final_function()"
   ]
  },
  {
   "cell_type": "markdown",
   "id": "ba289446",
   "metadata": {},
   "source": [
    "# 8 Conclusion"
   ]
  },
  {
   "cell_type": "markdown",
   "id": "a442cf98",
   "metadata": {},
   "source": [
    "## Key Findings\n",
    "\n",
    "1. (insert here) is the strongest predictor\n",
    "\n",
    "2. "
   ]
  },
  {
   "cell_type": "markdown",
   "id": "720c8375",
   "metadata": {},
   "source": [
    "## Limitations\n",
    "\n",
    "* Correlation != Causation\n",
    "\n",
    "* **Data Constrains**\n",
    "    * Only have the years 2000-2015\n",
    "    * Lots of external factors are not captured"
   ]
  },
  {
   "cell_type": "markdown",
   "id": "3c946d8f",
   "metadata": {},
   "source": [
    "## Future Directions\n",
    "\n",
    "* Improve our elaborate model\n",
    "\n",
    "* Give the user more control with the final function"
   ]
  }
 ],
 "metadata": {
  "kernelspec": {
   "display_name": ".venv",
   "language": "python",
   "name": "python3"
  },
  "language_info": {
   "codemirror_mode": {
    "name": "ipython",
    "version": 3
   },
   "file_extension": ".py",
   "mimetype": "text/x-python",
   "name": "python",
   "nbconvert_exporter": "python",
   "pygments_lexer": "ipython3",
   "version": "3.12.3"
  }
 },
 "nbformat": 4,
 "nbformat_minor": 5
}
