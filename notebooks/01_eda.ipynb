{
 "cells": [
  {
   "cell_type": "markdown",
   "id": "39efbbe1",
   "metadata": {},
   "source": [
    "\n",
    "# Life Expectancy Data: Exploratory Data Analysis (EDA)\n",
    "\n",
    "This notebook explores the **Life Expectancy Data** from the World Health Organization (WHO).  \n",
    "The aim is to understand key relationships between socioeconomic and health-related features and prepare the dataset for a **Linear Regression** model.\n",
    "\n",
    "We'll perform:\n",
    "- Data overview and cleaning  \n",
    "- Summary statistics and null/duplicate checks  \n",
    "- Visual exploration of correlations, distributions, and outliers  \n"
   ]
  },
  {
   "cell_type": "markdown",
   "id": "68707943",
   "metadata": {},
   "source": [
    "### Setup and read in the data"
   ]
  },
  {
   "cell_type": "code",
   "execution_count": null,
   "id": "95a5c2d1",
   "metadata": {},
   "outputs": [
    {
     "ename": "FileNotFoundError",
     "evalue": "[Errno 2] No such file or directory: 'Life_Expectancy_Data.csv'",
     "output_type": "error",
     "traceback": [
      "\u001b[31m---------------------------------------------------------------------------\u001b[39m",
      "\u001b[31mFileNotFoundError\u001b[39m                         Traceback (most recent call last)",
      "\u001b[36mCell\u001b[39m\u001b[36m \u001b[39m\u001b[32mIn[1]\u001b[39m\u001b[32m, line 9\u001b[39m\n\u001b[32m      6\u001b[39m \u001b[38;5;28;01mimport\u001b[39;00m\u001b[38;5;250m \u001b[39m\u001b[34;01mmatplotlib\u001b[39;00m\u001b[34;01m.\u001b[39;00m\u001b[34;01mpyplot\u001b[39;00m\u001b[38;5;250m \u001b[39m\u001b[38;5;28;01mas\u001b[39;00m\u001b[38;5;250m \u001b[39m\u001b[34;01mplt\u001b[39;00m\n\u001b[32m      8\u001b[39m \u001b[38;5;66;03m# Read in the dataset\u001b[39;00m\n\u001b[32m----> \u001b[39m\u001b[32m9\u001b[39m df = \u001b[43mpd\u001b[49m\u001b[43m.\u001b[49m\u001b[43mread_csv\u001b[49m\u001b[43m(\u001b[49m\u001b[33;43m\"\u001b[39;49m\u001b[33;43mLife_Expectancy_Data.csv\u001b[39;49m\u001b[33;43m\"\u001b[39;49m\u001b[43m)\u001b[49m\n\u001b[32m     11\u001b[39m \u001b[38;5;66;03m# Display first few rows to confirm load\u001b[39;00m\n\u001b[32m     12\u001b[39m df.head()\n",
      "\u001b[36mFile \u001b[39m\u001b[32m~/Digital_Futures/Projects/project_4_WHO/WHOligans-project/.venv/lib/python3.12/site-packages/pandas/io/parsers/readers.py:1026\u001b[39m, in \u001b[36mread_csv\u001b[39m\u001b[34m(filepath_or_buffer, sep, delimiter, header, names, index_col, usecols, dtype, engine, converters, true_values, false_values, skipinitialspace, skiprows, skipfooter, nrows, na_values, keep_default_na, na_filter, verbose, skip_blank_lines, parse_dates, infer_datetime_format, keep_date_col, date_parser, date_format, dayfirst, cache_dates, iterator, chunksize, compression, thousands, decimal, lineterminator, quotechar, quoting, doublequote, escapechar, comment, encoding, encoding_errors, dialect, on_bad_lines, delim_whitespace, low_memory, memory_map, float_precision, storage_options, dtype_backend)\u001b[39m\n\u001b[32m   1013\u001b[39m kwds_defaults = _refine_defaults_read(\n\u001b[32m   1014\u001b[39m     dialect,\n\u001b[32m   1015\u001b[39m     delimiter,\n\u001b[32m   (...)\u001b[39m\u001b[32m   1022\u001b[39m     dtype_backend=dtype_backend,\n\u001b[32m   1023\u001b[39m )\n\u001b[32m   1024\u001b[39m kwds.update(kwds_defaults)\n\u001b[32m-> \u001b[39m\u001b[32m1026\u001b[39m \u001b[38;5;28;01mreturn\u001b[39;00m \u001b[43m_read\u001b[49m\u001b[43m(\u001b[49m\u001b[43mfilepath_or_buffer\u001b[49m\u001b[43m,\u001b[49m\u001b[43m \u001b[49m\u001b[43mkwds\u001b[49m\u001b[43m)\u001b[49m\n",
      "\u001b[36mFile \u001b[39m\u001b[32m~/Digital_Futures/Projects/project_4_WHO/WHOligans-project/.venv/lib/python3.12/site-packages/pandas/io/parsers/readers.py:620\u001b[39m, in \u001b[36m_read\u001b[39m\u001b[34m(filepath_or_buffer, kwds)\u001b[39m\n\u001b[32m    617\u001b[39m _validate_names(kwds.get(\u001b[33m\"\u001b[39m\u001b[33mnames\u001b[39m\u001b[33m\"\u001b[39m, \u001b[38;5;28;01mNone\u001b[39;00m))\n\u001b[32m    619\u001b[39m \u001b[38;5;66;03m# Create the parser.\u001b[39;00m\n\u001b[32m--> \u001b[39m\u001b[32m620\u001b[39m parser = \u001b[43mTextFileReader\u001b[49m\u001b[43m(\u001b[49m\u001b[43mfilepath_or_buffer\u001b[49m\u001b[43m,\u001b[49m\u001b[43m \u001b[49m\u001b[43m*\u001b[49m\u001b[43m*\u001b[49m\u001b[43mkwds\u001b[49m\u001b[43m)\u001b[49m\n\u001b[32m    622\u001b[39m \u001b[38;5;28;01mif\u001b[39;00m chunksize \u001b[38;5;129;01mor\u001b[39;00m iterator:\n\u001b[32m    623\u001b[39m     \u001b[38;5;28;01mreturn\u001b[39;00m parser\n",
      "\u001b[36mFile \u001b[39m\u001b[32m~/Digital_Futures/Projects/project_4_WHO/WHOligans-project/.venv/lib/python3.12/site-packages/pandas/io/parsers/readers.py:1620\u001b[39m, in \u001b[36mTextFileReader.__init__\u001b[39m\u001b[34m(self, f, engine, **kwds)\u001b[39m\n\u001b[32m   1617\u001b[39m     \u001b[38;5;28mself\u001b[39m.options[\u001b[33m\"\u001b[39m\u001b[33mhas_index_names\u001b[39m\u001b[33m\"\u001b[39m] = kwds[\u001b[33m\"\u001b[39m\u001b[33mhas_index_names\u001b[39m\u001b[33m\"\u001b[39m]\n\u001b[32m   1619\u001b[39m \u001b[38;5;28mself\u001b[39m.handles: IOHandles | \u001b[38;5;28;01mNone\u001b[39;00m = \u001b[38;5;28;01mNone\u001b[39;00m\n\u001b[32m-> \u001b[39m\u001b[32m1620\u001b[39m \u001b[38;5;28mself\u001b[39m._engine = \u001b[38;5;28;43mself\u001b[39;49m\u001b[43m.\u001b[49m\u001b[43m_make_engine\u001b[49m\u001b[43m(\u001b[49m\u001b[43mf\u001b[49m\u001b[43m,\u001b[49m\u001b[43m \u001b[49m\u001b[38;5;28;43mself\u001b[39;49m\u001b[43m.\u001b[49m\u001b[43mengine\u001b[49m\u001b[43m)\u001b[49m\n",
      "\u001b[36mFile \u001b[39m\u001b[32m~/Digital_Futures/Projects/project_4_WHO/WHOligans-project/.venv/lib/python3.12/site-packages/pandas/io/parsers/readers.py:1880\u001b[39m, in \u001b[36mTextFileReader._make_engine\u001b[39m\u001b[34m(self, f, engine)\u001b[39m\n\u001b[32m   1878\u001b[39m     \u001b[38;5;28;01mif\u001b[39;00m \u001b[33m\"\u001b[39m\u001b[33mb\u001b[39m\u001b[33m\"\u001b[39m \u001b[38;5;129;01mnot\u001b[39;00m \u001b[38;5;129;01min\u001b[39;00m mode:\n\u001b[32m   1879\u001b[39m         mode += \u001b[33m\"\u001b[39m\u001b[33mb\u001b[39m\u001b[33m\"\u001b[39m\n\u001b[32m-> \u001b[39m\u001b[32m1880\u001b[39m \u001b[38;5;28mself\u001b[39m.handles = \u001b[43mget_handle\u001b[49m\u001b[43m(\u001b[49m\n\u001b[32m   1881\u001b[39m \u001b[43m    \u001b[49m\u001b[43mf\u001b[49m\u001b[43m,\u001b[49m\n\u001b[32m   1882\u001b[39m \u001b[43m    \u001b[49m\u001b[43mmode\u001b[49m\u001b[43m,\u001b[49m\n\u001b[32m   1883\u001b[39m \u001b[43m    \u001b[49m\u001b[43mencoding\u001b[49m\u001b[43m=\u001b[49m\u001b[38;5;28;43mself\u001b[39;49m\u001b[43m.\u001b[49m\u001b[43moptions\u001b[49m\u001b[43m.\u001b[49m\u001b[43mget\u001b[49m\u001b[43m(\u001b[49m\u001b[33;43m\"\u001b[39;49m\u001b[33;43mencoding\u001b[39;49m\u001b[33;43m\"\u001b[39;49m\u001b[43m,\u001b[49m\u001b[43m \u001b[49m\u001b[38;5;28;43;01mNone\u001b[39;49;00m\u001b[43m)\u001b[49m\u001b[43m,\u001b[49m\n\u001b[32m   1884\u001b[39m \u001b[43m    \u001b[49m\u001b[43mcompression\u001b[49m\u001b[43m=\u001b[49m\u001b[38;5;28;43mself\u001b[39;49m\u001b[43m.\u001b[49m\u001b[43moptions\u001b[49m\u001b[43m.\u001b[49m\u001b[43mget\u001b[49m\u001b[43m(\u001b[49m\u001b[33;43m\"\u001b[39;49m\u001b[33;43mcompression\u001b[39;49m\u001b[33;43m\"\u001b[39;49m\u001b[43m,\u001b[49m\u001b[43m \u001b[49m\u001b[38;5;28;43;01mNone\u001b[39;49;00m\u001b[43m)\u001b[49m\u001b[43m,\u001b[49m\n\u001b[32m   1885\u001b[39m \u001b[43m    \u001b[49m\u001b[43mmemory_map\u001b[49m\u001b[43m=\u001b[49m\u001b[38;5;28;43mself\u001b[39;49m\u001b[43m.\u001b[49m\u001b[43moptions\u001b[49m\u001b[43m.\u001b[49m\u001b[43mget\u001b[49m\u001b[43m(\u001b[49m\u001b[33;43m\"\u001b[39;49m\u001b[33;43mmemory_map\u001b[39;49m\u001b[33;43m\"\u001b[39;49m\u001b[43m,\u001b[49m\u001b[43m \u001b[49m\u001b[38;5;28;43;01mFalse\u001b[39;49;00m\u001b[43m)\u001b[49m\u001b[43m,\u001b[49m\n\u001b[32m   1886\u001b[39m \u001b[43m    \u001b[49m\u001b[43mis_text\u001b[49m\u001b[43m=\u001b[49m\u001b[43mis_text\u001b[49m\u001b[43m,\u001b[49m\n\u001b[32m   1887\u001b[39m \u001b[43m    \u001b[49m\u001b[43merrors\u001b[49m\u001b[43m=\u001b[49m\u001b[38;5;28;43mself\u001b[39;49m\u001b[43m.\u001b[49m\u001b[43moptions\u001b[49m\u001b[43m.\u001b[49m\u001b[43mget\u001b[49m\u001b[43m(\u001b[49m\u001b[33;43m\"\u001b[39;49m\u001b[33;43mencoding_errors\u001b[39;49m\u001b[33;43m\"\u001b[39;49m\u001b[43m,\u001b[49m\u001b[43m \u001b[49m\u001b[33;43m\"\u001b[39;49m\u001b[33;43mstrict\u001b[39;49m\u001b[33;43m\"\u001b[39;49m\u001b[43m)\u001b[49m\u001b[43m,\u001b[49m\n\u001b[32m   1888\u001b[39m \u001b[43m    \u001b[49m\u001b[43mstorage_options\u001b[49m\u001b[43m=\u001b[49m\u001b[38;5;28;43mself\u001b[39;49m\u001b[43m.\u001b[49m\u001b[43moptions\u001b[49m\u001b[43m.\u001b[49m\u001b[43mget\u001b[49m\u001b[43m(\u001b[49m\u001b[33;43m\"\u001b[39;49m\u001b[33;43mstorage_options\u001b[39;49m\u001b[33;43m\"\u001b[39;49m\u001b[43m,\u001b[49m\u001b[43m \u001b[49m\u001b[38;5;28;43;01mNone\u001b[39;49;00m\u001b[43m)\u001b[49m\u001b[43m,\u001b[49m\n\u001b[32m   1889\u001b[39m \u001b[43m\u001b[49m\u001b[43m)\u001b[49m\n\u001b[32m   1890\u001b[39m \u001b[38;5;28;01massert\u001b[39;00m \u001b[38;5;28mself\u001b[39m.handles \u001b[38;5;129;01mis\u001b[39;00m \u001b[38;5;129;01mnot\u001b[39;00m \u001b[38;5;28;01mNone\u001b[39;00m\n\u001b[32m   1891\u001b[39m f = \u001b[38;5;28mself\u001b[39m.handles.handle\n",
      "\u001b[36mFile \u001b[39m\u001b[32m~/Digital_Futures/Projects/project_4_WHO/WHOligans-project/.venv/lib/python3.12/site-packages/pandas/io/common.py:873\u001b[39m, in \u001b[36mget_handle\u001b[39m\u001b[34m(path_or_buf, mode, encoding, compression, memory_map, is_text, errors, storage_options)\u001b[39m\n\u001b[32m    868\u001b[39m \u001b[38;5;28;01melif\u001b[39;00m \u001b[38;5;28misinstance\u001b[39m(handle, \u001b[38;5;28mstr\u001b[39m):\n\u001b[32m    869\u001b[39m     \u001b[38;5;66;03m# Check whether the filename is to be opened in binary mode.\u001b[39;00m\n\u001b[32m    870\u001b[39m     \u001b[38;5;66;03m# Binary mode does not support 'encoding' and 'newline'.\u001b[39;00m\n\u001b[32m    871\u001b[39m     \u001b[38;5;28;01mif\u001b[39;00m ioargs.encoding \u001b[38;5;129;01mand\u001b[39;00m \u001b[33m\"\u001b[39m\u001b[33mb\u001b[39m\u001b[33m\"\u001b[39m \u001b[38;5;129;01mnot\u001b[39;00m \u001b[38;5;129;01min\u001b[39;00m ioargs.mode:\n\u001b[32m    872\u001b[39m         \u001b[38;5;66;03m# Encoding\u001b[39;00m\n\u001b[32m--> \u001b[39m\u001b[32m873\u001b[39m         handle = \u001b[38;5;28;43mopen\u001b[39;49m\u001b[43m(\u001b[49m\n\u001b[32m    874\u001b[39m \u001b[43m            \u001b[49m\u001b[43mhandle\u001b[49m\u001b[43m,\u001b[49m\n\u001b[32m    875\u001b[39m \u001b[43m            \u001b[49m\u001b[43mioargs\u001b[49m\u001b[43m.\u001b[49m\u001b[43mmode\u001b[49m\u001b[43m,\u001b[49m\n\u001b[32m    876\u001b[39m \u001b[43m            \u001b[49m\u001b[43mencoding\u001b[49m\u001b[43m=\u001b[49m\u001b[43mioargs\u001b[49m\u001b[43m.\u001b[49m\u001b[43mencoding\u001b[49m\u001b[43m,\u001b[49m\n\u001b[32m    877\u001b[39m \u001b[43m            \u001b[49m\u001b[43merrors\u001b[49m\u001b[43m=\u001b[49m\u001b[43merrors\u001b[49m\u001b[43m,\u001b[49m\n\u001b[32m    878\u001b[39m \u001b[43m            \u001b[49m\u001b[43mnewline\u001b[49m\u001b[43m=\u001b[49m\u001b[33;43m\"\u001b[39;49m\u001b[33;43m\"\u001b[39;49m\u001b[43m,\u001b[49m\n\u001b[32m    879\u001b[39m \u001b[43m        \u001b[49m\u001b[43m)\u001b[49m\n\u001b[32m    880\u001b[39m     \u001b[38;5;28;01melse\u001b[39;00m:\n\u001b[32m    881\u001b[39m         \u001b[38;5;66;03m# Binary mode\u001b[39;00m\n\u001b[32m    882\u001b[39m         handle = \u001b[38;5;28mopen\u001b[39m(handle, ioargs.mode)\n",
      "\u001b[31mFileNotFoundError\u001b[39m: [Errno 2] No such file or directory: 'Life_Expectancy_Data.csv'"
     ]
    }
   ],
   "source": [
    "# Import libraries\n",
    "\n",
    "import numpy as np\n",
    "import pandas as pd\n",
    "import seaborn as sns\n",
    "import matplotlib.pyplot as plt\n",
    "import sys\n",
    "sys.path.append('../src') # Add source code to path\n",
    "\n",
    "# Import source code\n",
    "from preprocessing import load_data\n",
    "\n",
    "# Read in the dataset\n",
    "df = load_data()\n",
    "\n",
    "# Display first few rows to confirm load\n",
    "df.head()\n"
   ]
  },
  {
   "cell_type": "markdown",
   "id": "0ad51578",
   "metadata": {},
   "source": [
    "## Data Overview"
   ]
  },
  {
   "cell_type": "code",
   "execution_count": null,
   "id": "89f5e018",
   "metadata": {},
   "outputs": [],
   "source": [
    "# Check dataset dimensions (rows, columns)\n",
    "\n",
    "df.shape\n"
   ]
  },
  {
   "cell_type": "code",
   "execution_count": null,
   "id": "551cdf97",
   "metadata": {},
   "outputs": [],
   "source": [
    "# Check column names and data types\n",
    "\n",
    "df.info()\n"
   ]
  },
  {
   "cell_type": "markdown",
   "id": "77d12195",
   "metadata": {},
   "source": [
    "\n",
    "**Observations:**  \n",
    "- Numeric values appear compatible.  \n",
    "- 'Country' and 'Region' are categorical and will require encoding if included in the model.  \n"
   ]
  },
  {
   "cell_type": "code",
   "execution_count": null,
   "id": "55bf6020",
   "metadata": {},
   "outputs": [],
   "source": [
    "# View random sample of rows to inspect data variety\n",
    "\n",
    "df.sample(5)\n"
   ]
  },
  {
   "cell_type": "code",
   "execution_count": null,
   "id": "4d525b29",
   "metadata": {},
   "outputs": [],
   "source": [
    "# Check number of unique values per column\n",
    "\n",
    "df.nunique().sort_values(ascending=False)\n"
   ]
  },
  {
   "cell_type": "markdown",
   "id": "a39c7ca4",
   "metadata": {},
   "source": [
    "\n",
    "**Insight:**  \n",
    "This helps identify potential categorical features and assess diversity within columns.\n"
   ]
  },
  {
   "cell_type": "markdown",
   "id": "9a1382bc",
   "metadata": {},
   "source": [
    "## Data Cleaning"
   ]
  },
  {
   "cell_type": "markdown",
   "id": "2c0b05c2",
   "metadata": {},
   "source": [
    "### Missing Values"
   ]
  },
  {
   "cell_type": "code",
   "execution_count": null,
   "id": "c1255bca",
   "metadata": {},
   "outputs": [],
   "source": [
    "# Check for missing values\n",
    "\n",
    "df.isnull().sum()\n"
   ]
  },
  {
   "cell_type": "code",
   "execution_count": null,
   "id": "f58dc915",
   "metadata": {},
   "outputs": [],
   "source": [
    "# Visualize missing data heatmap\n",
    "\n",
    "plt.figure(figsize=(10,5))\n",
    "sns.heatmap(\n",
    "        df.isnull(), \n",
    "        cbar=False)\n",
    "plt.title(\"Missing Data Overview\")\n",
    "plt.show()\n"
   ]
  },
  {
   "cell_type": "markdown",
   "id": "031d93d7",
   "metadata": {},
   "source": [
    "\n",
    "**Observation:**  \n",
    "No missing values are shown\n"
   ]
  },
  {
   "cell_type": "markdown",
   "id": "9474d357",
   "metadata": {},
   "source": [
    "### Duplicate Check"
   ]
  },
  {
   "cell_type": "code",
   "execution_count": null,
   "id": "5ffb69ba",
   "metadata": {},
   "outputs": [],
   "source": [
    "# Check for duplicate rows\n",
    "\n",
    "df.duplicated().sum()\n"
   ]
  },
  {
   "cell_type": "raw",
   "id": "4b8393d1-bd74-4b33-ace2-bdc6ec3f9687",
   "metadata": {},
   "source": [
    "\n",
    "There are no duplicates in the data\n"
   ]
  },
  {
   "cell_type": "markdown",
   "id": "a23c6dc5",
   "metadata": {},
   "source": [
    "### Column Name Consistency"
   ]
  },
  {
   "cell_type": "code",
   "execution_count": null,
   "id": "41aedeac",
   "metadata": {},
   "outputs": [],
   "source": [
    "# Display column names\n",
    "\n",
    "print(df.columns.tolist())\n"
   ]
  },
  {
   "cell_type": "markdown",
   "id": "6f21e7d7",
   "metadata": {},
   "source": [
    "\n",
    "Check for any spelling inconsistencies or formatting issues. They're all compatible with modelling\n"
   ]
  },
  {
   "cell_type": "markdown",
   "id": "8e9c72fd-1fef-41b2-9a36-96312f302bec",
   "metadata": {},
   "source": [
    "### Categorical Entry Consistency"
   ]
  },
  {
   "cell_type": "code",
   "execution_count": null,
   "id": "6fa43129-1a63-4086-9111-1aca8b9ea7a2",
   "metadata": {},
   "outputs": [],
   "source": [
    "region = df.Region.unique()\n",
    "print(region)"
   ]
  },
  {
   "cell_type": "code",
   "execution_count": null,
   "id": "f82acd4b-b60d-4570-95ea-13e80e721870",
   "metadata": {},
   "outputs": [],
   "source": [
    "country = df.Country.unique()\n",
    "print(country)"
   ]
  },
  {
   "cell_type": "markdown",
   "id": "9e3566a5-4076-427b-a4ec-56904738200b",
   "metadata": {},
   "source": [
    "Spelling inconsistencies: No spelling inconsistencies found in entries for 'Country' and 'Region'"
   ]
  },
  {
   "cell_type": "markdown",
   "id": "12397951-59e6-4d6e-b2a3-321091590613",
   "metadata": {},
   "source": [
    "### Column (Feature) Categorisation: Sensitive vs Non-Sensitive\n",
    "\n",
    "Sensitive: Identifiers: Country, Year\n",
    "\n",
    "Health Stats: Alcohol_consumption, Hepatitis_B, Measles, BMI, Polio, Diphtheria, Incidents_HIV, Thinness_ten_nineteen_years and Thinness_five_nine_years\n",
    "\n",
    "Non-Sensitive: Infant_deaths, Under_five_deaths, GDP_per_capita, 'Population_mln', Schooling, Economy_status_Developed and Economy_status_Developing\n",
    "\n",
    "Reasoning - We decided to classify specific identifiers and anything from health records as sensitive data, and any information that is publicly available as non-sensitive data"
   ]
  },
  {
   "cell_type": "markdown",
   "id": "8c91f774",
   "metadata": {},
   "source": [
    "## Summary Statistics"
   ]
  },
  {
   "cell_type": "code",
   "execution_count": null,
   "id": "6dfbc5b2",
   "metadata": {},
   "outputs": [],
   "source": [
    "# Summary of numeric features\n",
    "\n",
    "df.describe()\n"
   ]
  },
  {
   "cell_type": "markdown",
   "id": "b51b732b",
   "metadata": {},
   "source": [
    "\n",
    "**Interpretation Notes:**  \n",
    "- Check for potential outliers or unrealistic values (e.g., 0 for non-zero metrics), of which there are none.  \n",
    "- Identify columns with large value ranges for potential scaling later.  \n"
   ]
  },
  {
   "cell_type": "markdown",
   "id": "1a919149",
   "metadata": {},
   "source": [
    "## Exploratory Visual Analysis"
   ]
  },
  {
   "cell_type": "code",
   "execution_count": null,
   "id": "ccee10e2",
   "metadata": {},
   "outputs": [],
   "source": [
    "# Boxplot to visually inspect outliers across numeric columns\n",
    "\n",
    "plt.figure(figsize=(15,6))\n",
    "df.boxplot()\n",
    "plt.xticks(rotation=45)\n",
    "plt.title(\"Boxplot of Numeric Columns\")\n",
    "plt.show()\n"
   ]
  },
  {
   "cell_type": "markdown",
   "id": "cf0e73b8-0774-4335-9d1e-aed2065f396d",
   "metadata": {},
   "source": [
    "## Correlations:"
   ]
  },
  {
   "cell_type": "code",
   "execution_count": null,
   "id": "c0485908",
   "metadata": {},
   "outputs": [],
   "source": [
    "# Correlation heatmap for numerical features\n",
    "\n",
    "corr_matrix = df.corr(numeric_only=True)\n",
    "\n",
    "plt.figure(figsize=(12,10))\n",
    "sns.heatmap(corr_matrix, annot=True, fmt=\".2f\", cmap='coolwarm')\n",
    "plt.show()\n"
   ]
  },
  {
   "cell_type": "markdown",
   "id": "2e26b5a9",
   "metadata": {},
   "source": [
    "\n",
    "**Observations:**  \n",
    "\n",
    "Some strong positive and negative correlations to explore further\n",
    "\n",
    "Multicollinearity & redundancy:\n",
    "\n",
    "Economy_status_Developed and Economy_status_Developing\n",
    "Under_five_deaths and Infant_deaths\n",
    " "
   ]
  },
  {
   "cell_type": "markdown",
   "id": "372269cb",
   "metadata": {},
   "source": [
    "### Feature Distributions"
   ]
  },
  {
   "cell_type": "code",
   "execution_count": null,
   "id": "0f23eacb",
   "metadata": {},
   "outputs": [],
   "source": [
    "# Histograms for all numeric columns\n",
    "\n",
    "df.hist(figsize=(15,10), bins=20)\n",
    "plt.suptitle(\"Feature Distributions\", y=1.02)\n",
    "plt.show()\n"
   ]
  },
  {
   "cell_type": "markdown",
   "id": "f5bb8172",
   "metadata": {},
   "source": [
    "\n",
    "**Observation:**  \n",
    "Helps identify skewed distributions or features that may need transformation before regression.\n"
   ]
  },
  {
   "cell_type": "markdown",
   "id": "56f8b605-2d03-4cd7-9810-5956b278d9ff",
   "metadata": {},
   "source": [
    "### Correlation With Life Expectancy"
   ]
  },
  {
   "cell_type": "code",
   "execution_count": null,
   "id": "71af8465",
   "metadata": {},
   "outputs": [],
   "source": [
    "# Correlation of all numeric columns with life expectancy\n",
    "\n",
    "corr_life = df.corr(numeric_only=True)['Life_expectancy'].sort_values(ascending=False)\n",
    "\n",
    "# Display the top 10 most correlated features\n",
    "print('Top positive correlations:')\n",
    "print(corr_life.head(10))\n",
    "\n",
    "print('\\nTop negative correlations:')\n",
    "print(corr_life.tail(10))\n",
    "\n"
   ]
  },
  {
   "cell_type": "code",
   "execution_count": null,
   "id": "055dee3b-e651-45aa-9a3a-03fa604d8ecf",
   "metadata": {},
   "outputs": [],
   "source": [
    "# Heatmap to visualise these correlations\n",
    "\n",
    "corr = df.corr(numeric_only=True)\n",
    "sns.heatmap(corr[['Life_expectancy']].sort_values(by='Life_expectancy', ascending=False), annot=True)\n",
    "plt.show()"
   ]
  },
  {
   "cell_type": "markdown",
   "id": "22c35eb2-aa30-4e0d-90a0-0a750aed5a27",
   "metadata": {},
   "source": [
    "Identified Potential Features of Interest:\n",
    "\n",
    "- Adult_mortality\n",
    "- Infant_deaths\n",
    "- Schooling\n",
    "- Polio\n",
    "- Diptheria\n",
    "- BMI\n",
    "- GDP_per_capita\n",
    "- Economy_status_Developed\n",
    "- Measles\n",
    "- Thinness_ten_nineteen_years"
   ]
  },
  {
   "cell_type": "code",
   "execution_count": null,
   "id": "441af747-68b7-47a0-a05e-5208d682abac",
   "metadata": {},
   "outputs": [],
   "source": [
    "# Pair plot of the top 5 most correlated features in relation to themselves\n",
    "\n",
    "cols = [ \n",
    "        'Adult_mortality',\n",
    "        'Infant_deaths',\n",
    "        'Schooling',\n",
    "        'Polio',\n",
    "        'Diphtheria',\n",
    "]\n",
    "\n",
    "\n",
    "sns.pairplot(\n",
    "    df[cols]) \n",
    "plt.show()"
   ]
  },
  {
   "cell_type": "code",
   "execution_count": null,
   "id": "bfc9b4c3-eafd-422f-9a04-0e5226f2de52",
   "metadata": {},
   "outputs": [],
   "source": [
    "# Pair plot of the top 5 most correlated features in relation to life expectancy\n",
    "\n",
    "cols = [ \n",
    "        'Adult_mortality',\n",
    "        'Infant_deaths',\n",
    "        'Schooling',\n",
    "        'Polio',\n",
    "        'Diphtheria',\n",
    "]\n",
    "\n",
    "sns.pairplot(\n",
    "    df, \n",
    "    x_vars=cols,\n",
    "    y_vars=['Life_expectancy'],\n",
    ")\n",
    "plt.suptitle('Pairplot of Key Features vs Life Expectancy', y=1.02)\n",
    "plt.show()"
   ]
  },
  {
   "cell_type": "markdown",
   "id": "0fee3115",
   "metadata": {},
   "source": [
    "\n",
    "**Insight:**  \n",
    "These visuals help spot linear trends that could be meaningful for our regression model.\n"
   ]
  },
  {
   "cell_type": "markdown",
   "id": "085769ff",
   "metadata": {},
   "source": [
    "\n",
    "## Summary of Findings\n",
    "\n",
    "- Dataset appears clean with no major missing or duplicate data.  \n",
    "- Numeric and categorical columns identified.  \n",
    "- Outlier inspection and correlation analysis reveal potential influential variables.  \n",
    "- Data is now ready for preprocessing and modeling.\n",
    "  "
   ]
  }
 ],
 "metadata": {
  "kernelspec": {
   "display_name": ".venv",
   "language": "python",
   "name": "python3"
  },
  "language_info": {
   "codemirror_mode": {
    "name": "ipython",
    "version": 3
   },
   "file_extension": ".py",
   "mimetype": "text/x-python",
   "name": "python",
   "nbconvert_exporter": "python",
   "pygments_lexer": "ipython3",
   "version": "3.12.3"
  }
 },
 "nbformat": 4,
 "nbformat_minor": 5
}
