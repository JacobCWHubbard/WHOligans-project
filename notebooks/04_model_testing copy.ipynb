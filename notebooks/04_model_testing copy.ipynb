{
 "cells": [
  {
   "cell_type": "markdown",
   "id": "2874f165-7374-4718-8330-e70321b41e96",
   "metadata": {},
   "source": [
    "## Model evaluation - Jonty\n",
    "\n",
    "#### **Please note** - This can only be tested once merged with preceding code.  \n",
    "#### There will be errors.  \n",
    "#### Function and variable names will need to be made consistent -  \n",
    "e.g. _X\\_train\\_fe_, _y\\_test_, _scaling_function_, _user\\_input\\_data_,"
   ]
  },
  {
   "cell_type": "code",
   "execution_count": 1,
   "id": "e24fff8b-9d4e-4195-991a-4bca215acb0c",
   "metadata": {},
   "outputs": [],
   "source": [
    "import pandas as pd\n",
    "import numpy as np\n",
    "import matplotlib.pyplot as plt\n",
    "import seaborn as sns\n",
    "\n",
    "# from sklearn.model_selection import train_test_split\n",
    "from sklearn.preprocessing import RobustScaler\n",
    "# from sklearn.linear_model import LinearRegression\n",
    "from sklearn import metrics\n",
    "\n",
    "import statsmodels.api as sm\n",
    "import statsmodels.tools"
   ]
  },
  {
   "cell_type": "code",
   "execution_count": null,
   "id": "7d23c8b5",
   "metadata": {},
   "outputs": [],
   "source": [
    "import sys\n",
    "sys.add.path('../src')\n",
    "\n",
    "# Import key functions\n"
   ]
  },
  {
   "cell_type": "markdown",
   "id": "845b2394-78e5-486f-be0c-048e46ec3f68",
   "metadata": {},
   "source": [
    "#### Evaluate model on Train dataset"
   ]
  },
  {
   "cell_type": "code",
   "execution_count": null,
   "id": "cac3ba43-6125-48d2-a3e6-8e00880c16d2",
   "metadata": {},
   "outputs": [],
   "source": [
    "# Check indices still match\n",
    "print(all(X_test_fe.index == y_test.index))"
   ]
  },
  {
   "cell_type": "code",
   "execution_count": null,
   "id": "a822f0ee-6740-4b0a-988c-71f13d165fca",
   "metadata": {},
   "outputs": [],
   "source": [
    "# Summary statistics of the model\n",
    "results.summary()"
   ]
  },
  {
   "cell_type": "code",
   "execution_count": null,
   "id": "81f5422b-da37-4f14-bce0-3c8bc33cc8de",
   "metadata": {},
   "outputs": [],
   "source": [
    "# Make prediction (assuming model results saved as an object called 'results'\n",
    "y_train_pred = results.predict(X_train_fe[feature_cols])\n",
    "\n",
    "# Calculate RMSE from train data\n",
    "rmse_train = statsmodels.tools.eval_measures.rmse(y_train, y_pred_train)\n",
    "\n",
    "print(f'Root Mean Squared Error for training data: {rmse_train}')"
   ]
  },
  {
   "cell_type": "markdown",
   "id": "6f4e251f-ebf0-4e59-9708-1b107591c850",
   "metadata": {},
   "source": [
    "#### Evaluate model on Test dataset"
   ]
  },
  {
   "cell_type": "code",
   "execution_count": null,
   "id": "61642f3e-00f8-41ea-a26f-6c888c1823b7",
   "metadata": {},
   "outputs": [],
   "source": [
    "# Transform X_test using pre-defined feature engineering and scaling functions\n",
    "X_test_fe = feature_engineering(X_test)\n",
    "X_test_fe = scaling_function(X_test_fe, feature_cols) # Update with correct name of function\n",
    "\n",
    "# Add a constant (intercept)\n",
    "X_test_fe = sm.add_constant(X_test_fe)\n",
    "\n",
    "# Check all indices still match\n",
    "print(all(X_test_fe.index == y_test.index))"
   ]
  },
  {
   "cell_type": "code",
   "execution_count": null,
   "id": "498b8a48-7e37-4980-82ae-a6c05088bd15",
   "metadata": {},
   "outputs": [],
   "source": [
    "# Make a prediction\n",
    "y_test_pred = results.predict(X_test_fe[feature_cols])\n",
    "\n",
    "# Calculate RMSE from test data\n",
    "rmse_test = statsmodels.tools.eval_measures.rmse(y_test, y_test_pred)\n",
    "\n",
    "print(f'Root Mean Squared Error for testing data: {rmse_test}')"
   ]
  },
  {
   "cell_type": "markdown",
   "id": "ab586a21-9c20-48fc-8dd7-389b589b0207",
   "metadata": {},
   "source": [
    "#### Make a prediction on user input data"
   ]
  },
  {
   "cell_type": "code",
   "execution_count": null,
   "id": "6d0401b1-c623-4260-8d82-105ea199c5bd",
   "metadata": {},
   "outputs": [],
   "source": [
    "# Transform user input dataset using pre-defined feature engineering and scaling functions\n",
    "user_input_data_fe = feature_engineering(user_input_data)\n",
    "user_input_data_fe = scaling_function(user_input_data)\n",
    "\n",
    "# Add a constant (intercept)\n",
    "X_test_fe = sm.add_constant(X_test_fe)"
   ]
  },
  {
   "cell_type": "code",
   "execution_count": 2,
   "id": "7b71ece9-3698-4cb8-bb65-af9e4d17d466",
   "metadata": {},
   "outputs": [
    {
     "ename": "SyntaxError",
     "evalue": "expected ':' (2186503663.py, line 2)",
     "output_type": "error",
     "traceback": [
      "\u001b[1;36m  Cell \u001b[1;32mIn[2], line 2\u001b[1;36m\u001b[0m\n\u001b[1;33m    if user_input_data.shape[0]\u001b[0m\n\u001b[1;37m                               ^\u001b[0m\n\u001b[1;31mSyntaxError\u001b[0m\u001b[1;31m:\u001b[0m expected ':'\n"
     ]
    }
   ],
   "source": [
    "# Check user input dataset is the correct size:\n",
    "if user_input_data.shape[1] != X_test_fe.shape[1]:\n",
    "    print('Error: user input dataset has the wrong number of columns')\n",
    "\n",
    "# Check user input dataset's columns are in the right order:\n",
    "if all(user_input_data.columns != X_train_fe.columns):\n",
    "    print('Error: user input dataset\\'s headers don\\'t match')\n",
    "    \n",
    "# ================================================================================\n",
    "# Make the final prediction on the user unput data\n",
    "life_exp_prediction = results.predict(X)\n",
    "\n",
    "print(f'Prediction: \\nLife expectancy = {life_exp_prediction} ±{rmse_test}')\n",
    "# ================================================================================"
   ]
  }
 ],
 "metadata": {
  "kernelspec": {
   "display_name": ".venv",
   "language": "python",
   "name": "python3"
  },
  "language_info": {
   "codemirror_mode": {
    "name": "ipython",
    "version": 3
   },
   "file_extension": ".py",
   "mimetype": "text/x-python",
   "name": "python",
   "nbconvert_exporter": "python",
   "pygments_lexer": "ipython3",
   "version": "3.12.3"
  }
 },
 "nbformat": 4,
 "nbformat_minor": 5
}
