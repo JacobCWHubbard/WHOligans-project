{
 "cells": [
  {
   "cell_type": "markdown",
   "id": "4dde1874",
   "metadata": {},
   "source": [
    "# Model Testing"
   ]
  },
  {
   "cell_type": "markdown",
   "id": "a9fcf959",
   "metadata": {},
   "source": [
    "## Setup"
   ]
  },
  {
   "cell_type": "code",
   "execution_count": 1,
   "id": "ef3a51ce",
   "metadata": {},
   "outputs": [],
   "source": [
    "import sys\n",
    "sys.path.append('../src')\n",
    "\n",
    "from preprocessing import load_data\n",
    "from features import splitting_data, feature_engineering, scaling, add_constant_column\n",
    "from models import train_model, full_pipeline, calculate_rmse"
   ]
  },
  {
   "cell_type": "markdown",
   "id": "84a070e5",
   "metadata": {},
   "source": [
    "## Train a model"
   ]
  },
  {
   "cell_type": "code",
   "execution_count": 2,
   "id": "8646280e",
   "metadata": {},
   "outputs": [],
   "source": [
    "minimal_cols = ['Region',\n",
    "                'Under_five_deaths',\n",
    "                'Adult_mortality',\n",
    "                'GDP_per_capita',\n",
    "                'Schooling',\n",
    "                'Economy_status_Developed',\n",
    "                'Life_expectancy'\n",
    "                ]\n",
    "\n",
    "elaborate_cols = minimal_cols + ['Alcohol_consumption',\n",
    "                  'Hepatitis_B',\n",
    "                  'Measles',\n",
    "                  'BMI',\n",
    "                  'Polio',\n",
    "                  'Diphtheria',\n",
    "                  'Incidents_HIV',\n",
    "                  'Thinness_ten_nineteen_years',\n",
    "                  'Thinness_five_nine_years',\n",
    "                 ]"
   ]
  },
  {
   "cell_type": "code",
   "execution_count": 9,
   "id": "e977ecb0",
   "metadata": {},
   "outputs": [],
   "source": [
    "X_train_m_fe, X_test_m_fe, y_train_m, y_test_m, minimal_results = full_pipeline(minimal_cols)\n",
    "X_train_e_fe, X_test_e_fe, y_train_e, y_test_e, elaborate_results = full_pipeline(elaborate_cols)"
   ]
  },
  {
   "cell_type": "markdown",
   "id": "bde4ab64",
   "metadata": {},
   "source": [
    "## Test our minimal model"
   ]
  },
  {
   "cell_type": "code",
   "execution_count": 7,
   "id": "f9875ef1",
   "metadata": {},
   "outputs": [
    {
     "name": "stdout",
     "output_type": "stream",
     "text": [
      "Root Mean Squared Error for training data: 1.4146794518920598\n"
     ]
    }
   ],
   "source": [
    "# Make prediction (assuming model results saved as an object called 'results'\n",
    "y_train_m_pred = minimal_results.predict(X_train_m_fe)\n",
    "\n",
    "# Calculate RMSE from train data\n",
    "minimal_rmse_train = calculate_rmse(y_train_m, y_train_m_pred)\n",
    "\n",
    "print(f'Root Mean Squared Error for training data: {minimal_rmse_train}')"
   ]
  },
  {
   "cell_type": "markdown",
   "id": "4c6ada80",
   "metadata": {},
   "source": [
    "But how does it fare on our testing data!"
   ]
  },
  {
   "cell_type": "code",
   "execution_count": 8,
   "id": "c18a1872",
   "metadata": {},
   "outputs": [
    {
     "name": "stdout",
     "output_type": "stream",
     "text": [
      "Root Mean Squared Error for testing data: 1.7057435503581893\n"
     ]
    }
   ],
   "source": [
    "# Do the same thing as above but with TEST data\n",
    "y_test_m_pred = minimal_results.predict(X_test_m_fe)\n",
    "\n",
    "minimal_rmse_test = calculate_rmse(y_test_m, y_test_m_pred)\n",
    "\n",
    "print(f'Root Mean Squared Error for testing data: {minimal_rmse_test}')"
   ]
  },
  {
   "cell_type": "markdown",
   "id": "4baeae3b",
   "metadata": {},
   "source": [
    "## Test our elaborate model"
   ]
  },
  {
   "cell_type": "code",
   "execution_count": 10,
   "id": "e38d3a48",
   "metadata": {},
   "outputs": [
    {
     "name": "stdout",
     "output_type": "stream",
     "text": [
      "Root Mean Squared Error for training data: 1.388716500898901\n"
     ]
    }
   ],
   "source": [
    "# Make prediction (assuming model results saved as an object called 'results'\n",
    "y_train_e_pred = elaborate_results.predict(X_train_e_fe)\n",
    "\n",
    "# Calculate RMSE from train data\n",
    "elaborate_rmse_train = calculate_rmse(y_train_e, y_train_e_pred)\n",
    "\n",
    "print(f'Root Mean Squared Error for training data: {elaborate_rmse_train}')"
   ]
  },
  {
   "cell_type": "code",
   "execution_count": 11,
   "id": "1915ac1b",
   "metadata": {},
   "outputs": [
    {
     "name": "stdout",
     "output_type": "stream",
     "text": [
      "Root Mean Squared Error for testing data: 1.6946588444932533\n"
     ]
    }
   ],
   "source": [
    "# Do the same thing as above but with TEST data\n",
    "y_test_e_pred = elaborate_results.predict(X_test_e_fe)\n",
    "\n",
    "elaborate_rmse_test = calculate_rmse(y_test_e, y_test_e_pred)\n",
    "\n",
    "print(f'Root Mean Squared Error for testing data: {elaborate_rmse_test}')"
   ]
  },
  {
   "cell_type": "markdown",
   "id": "b1cc18e3",
   "metadata": {},
   "source": [
    "## Let's compare!"
   ]
  }
 ],
 "metadata": {
  "kernelspec": {
   "display_name": ".venv",
   "language": "python",
   "name": "python3"
  },
  "language_info": {
   "codemirror_mode": {
    "name": "ipython",
    "version": 3
   },
   "file_extension": ".py",
   "mimetype": "text/x-python",
   "name": "python",
   "nbconvert_exporter": "python",
   "pygments_lexer": "ipython3",
   "version": "3.12.3"
  }
 },
 "nbformat": 4,
 "nbformat_minor": 5
}
