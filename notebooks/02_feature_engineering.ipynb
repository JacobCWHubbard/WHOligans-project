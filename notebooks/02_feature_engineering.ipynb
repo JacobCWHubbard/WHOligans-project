{
 "cells": [
  {
   "cell_type": "markdown",
   "id": "22afe425",
   "metadata": {},
   "source": [
    "# Feature Engineering notebook\n"
   ]
  },
  {
   "cell_type": "markdown",
   "id": "8f71bfa0",
   "metadata": {},
   "source": [
    "## Setup"
   ]
  },
  {
   "cell_type": "code",
   "execution_count": null,
   "id": "fe68a1e1",
   "metadata": {},
   "outputs": [],
   "source": [
    "import sys\n",
    "sys.path.append('../src')\n",
    "\n",
    "from preprocessing import load_data\n",
    "from features import splitting_data, feature_engineering, scaling, add_constant_column"
   ]
  },
  {
   "cell_type": "markdown",
   "id": "08eadd6e",
   "metadata": {},
   "source": [
    "## Load the data"
   ]
  },
  {
   "cell_type": "code",
   "execution_count": null,
   "id": "294e7916",
   "metadata": {},
   "outputs": [],
   "source": [
    "df = load_data()"
   ]
  },
  {
   "cell_type": "code",
   "execution_count": null,
   "id": "28265600",
   "metadata": {},
   "outputs": [],
   "source": [
    "minimal_cols = ['Region',\n",
    "                'Under_five_deaths',\n",
    "                'Adult_mortality',\n",
    "                'GDP_per_capita',\n",
    "                'Schooling',\n",
    "                'Economy_status_Developed',\n",
    "                'Life_expectancy'\n",
    "                ]\n",
    "\n",
    "elaborate_cols = minimal_cols + ['Alcohol_consumption',\n",
    "                  'Hepatitis_B',\n",
    "                  'Measles',\n",
    "                  'BMI',\n",
    "                  'Polio',\n",
    "                  'Diphtheria',\n",
    "                  'Incidents_HIV',\n",
    "                  'Thinness_ten_nineteen_years',\n",
    "                  'Thinness_five_nine_years',\n",
    "                 ]"
   ]
  },
  {
   "cell_type": "code",
   "execution_count": 14,
   "id": "cc3bc2a6",
   "metadata": {},
   "outputs": [],
   "source": [
    "# Use only specified features\n",
    "df_copy = df[elaborate_cols].copy() "
   ]
  },
  {
   "cell_type": "markdown",
   "id": "3961ae68",
   "metadata": {},
   "source": [
    "## Perform Train Test Splitting"
   ]
  },
  {
   "cell_type": "code",
   "execution_count": null,
   "id": "460ca650",
   "metadata": {},
   "outputs": [],
   "source": [
    "X_train, X_test, y_train, y_test = splitting_data(df_copy, 'Life_expectancy')"
   ]
  },
  {
   "cell_type": "code",
   "execution_count": null,
   "id": "61ce4ad5",
   "metadata": {},
   "outputs": [],
   "source": [
    "# Check indices still match\n",
    "print(f'Train data indices match: {all(X_train.index == y_train.index)}')\n",
    "print(f'Test data indices match: {all(X_test.index == y_test.index)}')"
   ]
  },
  {
   "cell_type": "markdown",
   "id": "78161bd8",
   "metadata": {},
   "source": [
    "## Perform Feature Engineering and Scaling"
   ]
  },
  {
   "cell_type": "code",
   "execution_count": null,
   "id": "c92af458",
   "metadata": {},
   "outputs": [],
   "source": [
    "# Execute feature engineering and normalisation\n",
    "X_train_fe = feature_engineering(X_train)\n",
    "X_train_fe = scaling(X_train_fe)\n",
    "\n",
    "# Add a constant (intercept)\n",
    "X_train_fe = add_constant_column(X_train_fe)\n",
    "\n",
    "# Update feature_cols\n",
    "feature_cols_final = X_train_fe.columns\n",
    "\n",
    "# Check indices still match\n",
    "print(all(X_train_fe.index == y_train.index))"
   ]
  },
  {
   "cell_type": "markdown",
   "id": "3c3e34fb",
   "metadata": {},
   "source": [
    "## Let's compare!"
   ]
  },
  {
   "cell_type": "code",
   "execution_count": null,
   "id": "76a1c6e0",
   "metadata": {},
   "outputs": [],
   "source": [
    "df.head()"
   ]
  },
  {
   "cell_type": "code",
   "execution_count": null,
   "id": "57078553",
   "metadata": {},
   "outputs": [],
   "source": [
    "X_train_fe.head()"
   ]
  }
 ],
 "metadata": {
  "kernelspec": {
   "display_name": ".venv",
   "language": "python",
   "name": "python3"
  },
  "language_info": {
   "codemirror_mode": {
    "name": "ipython",
    "version": 3
   },
   "file_extension": ".py",
   "mimetype": "text/x-python",
   "name": "python",
   "nbconvert_exporter": "python",
   "pygments_lexer": "ipython3",
   "version": "3.12.3"
  }
 },
 "nbformat": 4,
 "nbformat_minor": 5
}
