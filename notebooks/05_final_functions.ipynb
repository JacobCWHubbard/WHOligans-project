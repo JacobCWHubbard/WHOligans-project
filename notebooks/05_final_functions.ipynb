{
 "cells": [
  {
   "cell_type": "markdown",
   "id": "d398dcee",
   "metadata": {},
   "source": [
    "# This notebook documents the final function"
   ]
  },
  {
   "cell_type": "markdown",
   "id": "4accfef7",
   "metadata": {},
   "source": [
    "## Setup"
   ]
  },
  {
   "cell_type": "code",
   "execution_count": 3,
   "id": "43c40f9a",
   "metadata": {},
   "outputs": [],
   "source": [
    "import sys\n",
    "sys.path.append('../src') # Add src to path\n",
    "\n",
    "from user_interaction import *\n",
    "from preprocessing import *"
   ]
  },
  {
   "cell_type": "markdown",
   "id": "3959319a",
   "metadata": {},
   "source": [
    "## Global variables"
   ]
  },
  {
   "cell_type": "code",
   "execution_count": 4,
   "id": "9d606066",
   "metadata": {},
   "outputs": [],
   "source": [
    "sensitive_features = ['Country',\n",
    "                    'Region',\n",
    "                    'Year',\n",
    "                    'Infant_deaths',\n",
    "                    'Under_five_deaths',\n",
    "                    'Adult_mortality',\n",
    "                    'GDP_per_capita',\n",
    "                    'Population_mln',\n",
    "                    'Schooling',\n",
    "                    'Economy_status_Developed',\n",
    "                    'Economy_status_Developing',\n",
    "                    'Alcohol_consumption',\n",
    "                    'Hepatitis_B',\n",
    "                    'Measles',\n",
    "                    'BMI',\n",
    "                    'Polio',\n",
    "                    'Diphtheria',\n",
    "                    'Incidents_HIV',\n",
    "                    'Thinness_ten_nineteen_years',\n",
    "                    'Thinness_five_nine_years']\n",
    "\n",
    "non_sensitive_features = []\n",
    "\n"
   ]
  },
  {
   "cell_type": "markdown",
   "id": "74b2d281",
   "metadata": {},
   "source": [
    "## Final Function"
   ]
  },
  {
   "cell_type": "code",
   "execution_count": 7,
   "id": "207264f3",
   "metadata": {},
   "outputs": [],
   "source": [
    "def final_function():\n",
    "    welcome_message()\n",
    "    response = model_decider()\n",
    "    df = load_data()\n",
    "    collect_values(df, response, sensitive_features, non_sensitive_features)"
   ]
  },
  {
   "cell_type": "code",
   "execution_count": null,
   "id": "c28f1986",
   "metadata": {},
   "outputs": [],
   "source": []
  },
  {
   "cell_type": "code",
   "execution_count": null,
   "id": "67c85e66",
   "metadata": {},
   "outputs": [
    {
     "name": "stdout",
     "output_type": "stream",
     "text": [
      "Welcome to the WHOligans life expectancy predictor\n",
      "\n",
      "Do you consent to using advanced population data, \n",
      "which may include protected information, for better accuracy? (Y/N): \n",
      "Please enter either Y or N\n",
      "Thank you, your response was: n \n",
      "\n",
      "Please enter the value for Country from the following list ['Turkiye', 'Spain', 'India', 'Guyana', 'Israel', 'Costa Rica', 'Russian Federation', 'Hungary', 'Jordan', 'Moldova', 'Brazil', 'Malta', 'Bahamas, The', 'Ukraine', 'Switzerland', 'Norway', 'Finland', 'Comoros', 'Japan', 'Gabon', 'Ghana', 'Philippines', 'Congo, Rep.', 'Madagascar', 'Estonia', 'Belize', 'Kazakhstan', 'Cameroon', 'Zimbabwe', 'Bhutan', 'South Africa', 'Eritrea', 'Germany', 'Saudi Arabia', 'Kiribati', 'Seychelles', 'Singapore', 'Togo', 'Denmark', 'Gambia, The', 'Sweden', 'Austria', 'Kyrgyz Republic', 'Grenada', 'Brunei Darussalam', 'Greece', 'Uruguay', 'Croatia', 'Romania', 'Central African Republic', 'Algeria', 'Yemen, Rep.', 'Armenia', 'St. Vincent and the Grenadines', 'Kenya', 'Micronesia, Fed. Sts.', 'Antigua and Barbuda', 'Nepal', 'Lithuania', 'Vanuatu', 'Afghanistan', 'Kuwait', 'Argentina', 'Panama', 'Oman', 'France', 'Bosnia and Herzegovina', 'Mauritania', 'Somalia', 'Azerbaijan', 'Maldives', 'Guinea-Bissau', 'Solomon Islands', 'Congo, Dem. Rep.', 'Namibia', 'Eswatini', 'Nigeria', 'United Arab Emirates', 'Burundi', 'Tajikistan', 'Honduras', 'Colombia', 'Iceland', 'Morocco', 'Pakistan', 'Bolivia', 'Cambodia', 'Malaysia', 'Dominican Republic', 'Italy', 'Vietnam', 'Albania', 'Czechia', 'Tonga', 'Slovenia', 'Zambia', 'Egypt, Arab Rep.', 'Papua New Guinea', 'Ireland', 'Chile', 'Syrian Arab Republic', 'Serbia', 'Belgium', 'Cuba', 'Trinidad and Tobago', 'Botswana', 'Paraguay', 'Malawi', 'Montenegro', 'Timor-Leste', 'Chad', 'Sierra Leone', 'Mali', 'Bangladesh', 'Latvia', 'Angola', 'Jamaica', 'China', 'Tanzania', 'Ecuador', 'Djibouti', \"Cote d'Ivoire\", 'Nicaragua', 'Iraq', 'Myanmar', 'Bahrain', 'Cabo Verde', 'Uganda', 'St. Lucia', 'Belarus', 'Senegal', 'Mongolia', 'Haiti', 'Niger', 'Slovak Republic', 'Tunisia', 'Thailand', 'Samoa', 'Libya', 'Bulgaria', 'Netherlands', 'Liberia', 'Ethiopia', 'Benin', 'New Zealand', 'Rwanda', 'Sao Tome and Principe', 'Guatemala', 'Cyprus', 'Venezuela, RB', 'Portugal', 'Equatorial Guinea', 'Iran, Islamic Rep.', 'Lao PDR', 'Mexico', 'Lebanon', 'Turkmenistan', 'Indonesia', 'United States', 'Peru', 'Mozambique', 'United Kingdom', 'Luxembourg', 'Sri Lanka', 'Uzbekistan', 'Lesotho', 'Guinea', 'Poland', 'Canada', 'Suriname', 'Mauritius', 'Barbados', 'El Salvador', 'Burkina Faso', 'Qatar', 'Fiji', 'Australia', 'North Macedonia', 'Georgia']: \n",
      "Sorry, your input is not valid\n",
      "Sorry, your input is not valid\n",
      "Sorry, your input is not valid\n"
     ]
    }
   ],
   "source": [
    "final_function()"
   ]
  }
 ],
 "metadata": {
  "kernelspec": {
   "display_name": ".venv",
   "language": "python",
   "name": "python3"
  },
  "language_info": {
   "codemirror_mode": {
    "name": "ipython",
    "version": 3
   },
   "file_extension": ".py",
   "mimetype": "text/x-python",
   "name": "python",
   "nbconvert_exporter": "python",
   "pygments_lexer": "ipython3",
   "version": "3.12.3"
  }
 },
 "nbformat": 4,
 "nbformat_minor": 5
}
