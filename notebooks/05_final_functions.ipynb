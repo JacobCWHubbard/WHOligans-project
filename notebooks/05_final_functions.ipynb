{
 "cells": [
  {
   "cell_type": "markdown",
   "id": "d398dcee",
   "metadata": {},
   "source": [
    "# This notebook documents the final function"
   ]
  },
  {
   "cell_type": "markdown",
   "id": "4accfef7",
   "metadata": {},
   "source": [
    "## Setup"
   ]
  },
  {
   "cell_type": "code",
   "execution_count": 5,
   "id": "43c40f9a",
   "metadata": {},
   "outputs": [],
   "source": [
    "import sys\n",
    "sys.path.append('../src') # Add src to path\n",
    "\n",
    "from user_interaction import *\n",
    "from preprocessing import *\n",
    "import pandas as pd"
   ]
  },
  {
   "cell_type": "markdown",
   "id": "3959319a",
   "metadata": {},
   "source": [
    "## Global variables"
   ]
  },
  {
   "cell_type": "code",
   "execution_count": 6,
   "id": "9d606066",
   "metadata": {},
   "outputs": [],
   "source": [
    "sensitive_features = ['Region',\n",
    "                    'Year',\n",
    "#                    'Infant_deaths',\n",
    "#                    'Under_five_deaths',\n",
    "#                    'Adult_mortality',\n",
    "#                    'GDP_per_capita',\n",
    "#                    'Population_mln',\n",
    "#                    'Schooling',\n",
    "                    'Economy_status_Developed',\n",
    "#                    'Economy_status_Developing',\n",
    "#                    'Alcohol_consumption',\n",
    "#                    'Hepatitis_B',\n",
    "#                    'Measles',\n",
    "#                    'BMI',\n",
    "#                    'Polio',\n",
    "#                    'Diphtheria',\n",
    "#                    'Incidents_HIV',\n",
    "#                    'Thinness_ten_nineteen_years',\n",
    "                    'Thinness_five_nine_years']\n",
    "\n",
    "non_sensitive_features = []\n",
    "\n"
   ]
  },
  {
   "cell_type": "markdown",
   "id": "74b2d281",
   "metadata": {},
   "source": [
    "## Final Function"
   ]
  },
  {
   "cell_type": "code",
   "execution_count": null,
   "id": "207264f3",
   "metadata": {},
   "outputs": [],
   "source": [
    "def final_function():\n",
    "    welcome_message()\n",
    "    response = model_decider()\n",
    "    df = load_data()\n",
    "    user_values = collect_values(df, response, sensitive_features, non_sensitive_features)"
   ]
  },
  {
   "cell_type": "code",
   "execution_count": 8,
   "id": "67c85e66",
   "metadata": {},
   "outputs": [
    {
     "name": "stdout",
     "output_type": "stream",
     "text": [
      "Welcome to the WHOligans life expectancy predictor\n",
      "\n",
      "Do you consent to using advanced population data, \n",
      "which may include protected information, for better accuracy? (Y/N): \n",
      "Thank you, your response was: N \n",
      "\n",
      "Please enter the value for Region. Pick from the following list ['Middle East', 'European Union', 'Asia', 'South America', 'Central America and Caribbean', 'Rest of Europe', 'Africa', 'Oceania', 'North America']\n",
      "Please enter the value for Year. Please enter a number\n",
      "Your value is out of the expected range. Please enter Y to confirm or Q to re-enter your value\n",
      "Please enter the value for Economy_status_Developed. Enter 1 for yes, and 0 for no\n",
      "Raising exception\n",
      "\n",
      "Please insure your input is an accepted value\n",
      "Please enter the value for Thinness_five_nine_years. Please enter a number\n",
      "Your value is out of the expected range. Please enter Y to confirm or Q to re-enter your value\n",
      "Raising exception\n",
      "\n",
      "Please insure your input is an accepted value\n",
      "{'Region': 'Middle East', 'Year': 20000.0, 'Economy_status_Developed': 1, 'Thinness_five_nine_years': 3.0}\n"
     ]
    }
   ],
   "source": [
    "final_function()"
   ]
  }
 ],
 "metadata": {
  "kernelspec": {
   "display_name": ".venv",
   "language": "python",
   "name": "python3"
  },
  "language_info": {
   "codemirror_mode": {
    "name": "ipython",
    "version": 3
   },
   "file_extension": ".py",
   "mimetype": "text/x-python",
   "name": "python",
   "nbconvert_exporter": "python",
   "pygments_lexer": "ipython3",
   "version": "3.12.3"
  }
 },
 "nbformat": 4,
 "nbformat_minor": 5
}
