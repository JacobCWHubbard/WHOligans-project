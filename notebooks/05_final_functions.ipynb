{
 "cells": [
  {
   "cell_type": "markdown",
   "id": "d398dcee",
   "metadata": {},
   "source": [
    "# This notebook documents the final function"
   ]
  },
  {
   "cell_type": "markdown",
   "id": "4accfef7",
   "metadata": {},
   "source": [
    "## Setup"
   ]
  },
  {
   "cell_type": "code",
   "execution_count": 1,
   "id": "43c40f9a",
   "metadata": {},
   "outputs": [],
   "source": [
    "import sys\n",
    "sys.path.append('../src') # Add src to path\n",
    "\n",
    "from user_interaction import welcome_message, model_decider, collect_values\n",
    "from preprocessing import load_data \n",
    "from models import full_pipeline\n",
    "from features import feature_engineering, scaling, add_constant_column"
   ]
  },
  {
   "cell_type": "markdown",
   "id": "3959319a",
   "metadata": {},
   "source": [
    "## Global variables"
   ]
  },
  {
   "cell_type": "code",
   "execution_count": 2,
   "id": "c5fda049",
   "metadata": {},
   "outputs": [],
   "source": [
    "minimal_cols = ['Region',\n",
    "                'Under_five_deaths',\n",
    "                'Adult_mortality',\n",
    "                'GDP_per_capita',\n",
    "                'Schooling',\n",
    "                'Economy_status_Developed',\n",
    "                'Life_expectancy'\n",
    "                ]\n",
    "\n",
    "elaborate_cols = minimal_cols + [\n",
    "                  'Alcohol_consumption',\n",
    "                  'Hepatitis_B',\n",
    "                  'Measles',\n",
    "                  'BMI',\n",
    "                  'Polio',\n",
    "                  'Diphtheria',\n",
    "                  'Incidents_HIV',\n",
    "                  'Thinness_ten_nineteen_years',\n",
    "                  'Thinness_five_nine_years',\n",
    "                 ]"
   ]
  },
  {
   "cell_type": "markdown",
   "id": "74b2d281",
   "metadata": {},
   "source": [
    "## Final Function"
   ]
  },
  {
   "cell_type": "code",
   "execution_count": 3,
   "id": "207264f3",
   "metadata": {},
   "outputs": [],
   "source": [
    "def final_function():\n",
    "    welcome_message()\n",
    "    response = model_decider()\n",
    "    if response == 'n': # Decide columns in use\n",
    "        features = minimal_cols\n",
    "    else:\n",
    "        features = elaborate_cols\n",
    "    df = load_data()\n",
    "    user_values = collect_values(df, response, features) # Get user data\n",
    "\n",
    "    # Get model and scaler\n",
    "    pipeline_results = full_pipeline(features) # This is a tuple\n",
    "    model = pipeline_results[4] # Extract model from results\n",
    "    scaler = pipeline_results[5] # Extract scaled used on training data\n",
    "    training_columns = pipeline_results[6]\n",
    "\n",
    "    # Apply feature engineering on user_values\n",
    "    user_values_fe = feature_engineering(user_values)\n",
    "\n",
    "    # Align columns with training data, to ensure we have the same columns (give that we have one hot encoded on less columns)\n",
    "    user_values_fe = user_values_fe.reindex(\n",
    "        columns = [col for col in training_columns if col != 'const'],\n",
    "        fill_value = 0\n",
    "        )\n",
    "    \n",
    "    # Scale and add constant column\n",
    "    user_values_fe, _ = scaling(user_values_fe, scaler)\n",
    "    user_values_fe = add_constant_column(user_values_fe)\n",
    "\n",
    "    user_values_fe = user_values_fe.reindex(columns=training_columns, fill_value =1)\n",
    "\n",
    "    # Get prediction\n",
    "    prediction = model.predict(user_values_fe)\n",
    "    print(f\"Predicted life expectancy: {prediction[0]:.3f} years\")\n",
    "   "
   ]
  },
  {
   "cell_type": "code",
   "execution_count": 4,
   "id": "67c85e66",
   "metadata": {},
   "outputs": [
    {
     "name": "stdout",
     "output_type": "stream",
     "text": [
      "Welcome to the WHOligans life expectancy predictor\n",
      "\n",
      "Do you consent to using advanced population data, \n",
      "which may include protected information, for better accuracy? (Y/N): \n",
      "Thank you, your response was: N \n",
      "\n",
      "Current feature is Region\n",
      "Please enter the value for Region. Pick from the following list ['Middle East', 'European Union', 'Asia', 'South America', 'Central America and Caribbean', 'Rest of Europe', 'Africa', 'Oceania', 'North America']\n",
      "Current feature is Under_five_deaths\n",
      "Please enter the value for Under_five_deaths. Please enter a number, expected range is 2.3 to 224.9\n",
      "Current feature is Adult_mortality\n",
      "Please enter the value for Adult_mortality. Please enter a number, expected range is 49.384 to 719.3605\n",
      "Current feature is GDP_per_capita\n",
      "Please enter the value for GDP_per_capita. Please enter a number, expected range is 148 to 112418\n",
      "Current feature is Schooling\n",
      "Please enter the value for Schooling. Please enter a number, expected range is 1.1 to 14.1\n",
      "Current feature is Economy_status_Developed\n",
      "Please enter the value for Economy_status_Developed. Enter 1 for yes, and 0 for no\n",
      "Predicted life expectancy: 51.861 years\n"
     ]
    }
   ],
   "source": [
    "final_function()"
   ]
  }
 ],
 "metadata": {
  "kernelspec": {
   "display_name": ".venv",
   "language": "python",
   "name": "python3"
  },
  "language_info": {
   "codemirror_mode": {
    "name": "ipython",
    "version": 3
   },
   "file_extension": ".py",
   "mimetype": "text/x-python",
   "name": "python",
   "nbconvert_exporter": "python",
   "pygments_lexer": "ipython3",
   "version": "3.12.3"
  }
 },
 "nbformat": 4,
 "nbformat_minor": 5
}
