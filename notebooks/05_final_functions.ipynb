{
 "cells": [
  {
   "cell_type": "markdown",
   "id": "d398dcee",
   "metadata": {},
   "source": [
    "# This notebook documents the final function"
   ]
  },
  {
   "cell_type": "markdown",
   "id": "4accfef7",
   "metadata": {},
   "source": [
    "## Setup"
   ]
  },
  {
   "cell_type": "code",
   "execution_count": 1,
   "id": "43c40f9a",
   "metadata": {},
   "outputs": [],
   "source": [
    "import sys\n",
    "sys.path.append('../src') # Add src to path\n",
    "\n",
    "from user_interaction import welcome_message, model_decider, collect_values\n",
    "from preprocessing import load_data \n",
    "from models import full_pipeline\n",
    "from features import feature_engineering, scaling, add_constant_column"
   ]
  },
  {
   "cell_type": "markdown",
   "id": "3959319a",
   "metadata": {},
   "source": [
    "## Global variables"
   ]
  },
  {
   "cell_type": "code",
   "execution_count": null,
   "id": "c5fda049",
   "metadata": {},
   "outputs": [],
   "source": [
    "minimal_cols = ['Region',\n",
    "                'Under_five_deaths',\n",
    "                'Adult_mortality',\n",
    "                'GDP_per_capita',\n",
    "                'Schooling',\n",
    "                'Economy_status_Developed',\n",
    "                'Life_expectancy'\n",
    "                ]\n",
    "\n",
    "elaborate_cols = minimal_cols + [\n",
    "                  'Alcohol_consumption',\n",
    "                  'Hepatitis_B',\n",
    "                  'Measles',\n",
    "                  'BMI',\n",
    "                  'Polio',\n",
    "                  'Diphtheria',\n",
    "                  'Incidents_HIV',\n",
    "                  'Thinness_ten_nineteen_years',\n",
    "                  'Thinness_five_nine_years',\n",
    "                 ]"
   ]
  },
  {
   "cell_type": "markdown",
   "id": "74b2d281",
   "metadata": {},
   "source": [
    "## Final Function"
   ]
  },
  {
   "cell_type": "code",
   "execution_count": 3,
   "id": "207264f3",
   "metadata": {},
   "outputs": [],
   "source": [
    "def final_function():\n",
    "    welcome_message()\n",
    "    response = model_decider()\n",
    "    if response == 'n': # Decide columns in use\n",
    "        features = minimal_cols\n",
    "    else:\n",
    "        features = elaborate_cols\n",
    "    df = load_data()\n",
    "    user_values = collect_values(df, response, features) # Get user data\n",
    "\n",
    "    # Get model and scaler\n",
    "    pipeline_results = full_pipeline(features) # This is a tuple\n",
    "    model = pipeline_results[4] # Extract model from results\n",
    "    scaler = pipeline_results[5] # Extract scaled used on training data\n",
    "    training_columns = pipeline_results[6]\n",
    "\n",
    "    # Apply feature engineering on user_values\n",
    "    user_values_fe = feature_engineering(user_values)\n",
    "\n",
    "    # Align columns with training data, to ensure we have the same columns (give that we have one hot encoded on less columns)\n",
    "    user_values_fe = user_values_fe.reindex(\n",
    "        columns = [col for col in training_columns if col != 'const'],\n",
    "        fill_value = 0\n",
    "        )\n",
    "    \n",
    "    # Scale and add constant column\n",
    "    user_values_fe, _ = scaling(user_values_fe, scaler)\n",
    "    user_values_fe = add_constant_column(user_values_fe)\n",
    "\n",
    "    user_values_fe = user_values_fe.reindex(columns=training_columns, fill_value =1)\n",
    "\n",
    "    # Get prediction\n",
    "    prediction = model.predict(user_values_fe)\n",
    "    print(f\"Predicted life expectancy: {prediction[0]:.2f} years\")\n",
    "   "
   ]
  },
  {
   "cell_type": "code",
   "execution_count": 4,
   "id": "67c85e66",
   "metadata": {},
   "outputs": [
    {
     "name": "stdout",
     "output_type": "stream",
     "text": [
      "Welcome to the WHOligans life expectancy predictor\n",
      "\n",
      "Do you consent to using advanced population data, \n",
      "which may include protected information, for better accuracy? (Y/N): \n",
      "Thank you, your response was: Y \n",
      "\n",
      "Please enter the region in which the country is located. Pick from the following list ['Middle East', 'European Union', 'Asia', 'South America', 'Central America and Caribbean', 'Rest of Europe', 'Africa', 'Oceania', 'North America']\n",
      "Please enter the under-five mortality rate (per 1,000 people). Expected range is 2.3 to 224.9\n",
      "Please enter the adult mortality rate (per 1,000 people aged 15-60 years). Expected range is 49.384 to 719.3605\n",
      "Please enter the country's GDP per capita (in USD). Expected range is 148 to 112418\n",
      "Please enter the average number of years of schooling. Expected range is 1.1 to 14.1\n",
      "Please determine whether the country is economically developed. Enter 1 for yes, and 0 for no\n",
      "Please enter the annual alcohol consumption (in litres per person aged 15+). Expected range is 0.0 to 17.87\n",
      "Please enter the Hepatitis B immunisation coverage among 1-year-olds (%). Expected range is 12 to 99\n",
      "Please enter the Measles immunisation coverage (%). Expected range is 10 to 99\n",
      "Please enter the country's average Body Mass Index. Expected range is 19.8 to 32.1\n",
      "Please enter the Polio (Pol3) immunization coverage among 1-year-olds (%). Expected range is 8 to 99\n",
      "Please enter the Diphtheria (DTP3) immunization coverage among 1-year-olds (%). Expected range is 16 to 99\n",
      "Please enter the under-five deaths due to HIV/AIDS (per 1,000 live births). Expected range is 0.01 to 21.68\n",
      "Please enter the prevalence of thinness among children and adolescents aged 10 to 19 (%). Expected range is 0.1 to 27.7\n",
      "Please enter the prevalence of thinness among children for Age 5 to 9 (%). Expected range is 0.1 to 28.6\n",
      "Predicted life expectancy: 36.13 years\n"
     ]
    }
   ],
   "source": [
    "final_function()"
   ]
  }
 ],
 "metadata": {
  "kernelspec": {
   "display_name": ".venv",
   "language": "python",
   "name": "python3"
  },
  "language_info": {
   "codemirror_mode": {
    "name": "ipython",
    "version": 3
   },
   "file_extension": ".py",
   "mimetype": "text/x-python",
   "name": "python",
   "nbconvert_exporter": "python",
   "pygments_lexer": "ipython3",
   "version": "3.12.3"
  }
 },
 "nbformat": 4,
 "nbformat_minor": 5
}
